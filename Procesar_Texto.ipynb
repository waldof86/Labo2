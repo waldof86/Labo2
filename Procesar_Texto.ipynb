{
 "cells": [
  {
   "cell_type": "code",
   "execution_count": 1,
   "metadata": {},
   "outputs": [],
   "source": [
    "import pandas as pd\n",
    "import numpy as np\n",
    "\n",
    "import seaborn as sns\n",
    "import matplotlib.pyplot as plt\n",
    "\n",
    "import lightgbm as lgb\n",
    "from sklearn.metrics import precision_score\n",
    "from sklearn.metrics import confusion_matrix\n",
    "from sklearn.feature_extraction.text import TfidfVectorizer\n",
    "from sklearn.decomposition import TruncatedSVD, NMF\n",
    "from skopt.callbacks import VerboseCallback\n",
    "\n",
    "from tensorflow.keras.models import Model, load_model\n",
    "from gensim.models import KeyedVectors\n",
    "\n",
    "import os\n",
    "import json\n",
    "from joblib import Parallel, delayed"
   ]
  },
  {
   "cell_type": "code",
   "execution_count": 2,
   "metadata": {},
   "outputs": [],
   "source": [
    "pet_train   = pd.read_csv('Data/train/train.csv')\n",
    "pet_train = pet_train.drop(pet_train.columns.difference(['PetID', 'Description']), axis=1)"
   ]
  },
  {
   "cell_type": "code",
   "execution_count": 3,
   "metadata": {},
   "outputs": [],
   "source": [
    "seed = 42\n",
    "\n",
    "model = KeyedVectors.load_word2vec_format('Data\\crawl-300d-2M.vec\\crawl-300d-2M.vec')\n",
    "\n",
    "pet_ids = pet_train[~pet_train['Description'].isna()]['PetID']\n",
    "vects = []\n",
    "found_pet_ids = []\n",
    "for pet_id in pet_ids:\n",
    "    desc = pet_train[pet_train['PetID'] == pet_id]['Description'].values[0].split(' ')\n",
    "    word_vectors = []\n",
    "    for word in desc:\n",
    "        try:\n",
    "            word_vectors.append(model.get_vector(word))\n",
    "        except KeyError:\n",
    "            pass\n",
    "    if word_vectors:\n",
    "        mean_vect = np.mean(word_vectors, axis=0)\n",
    "        vects.append(mean_vect)\n",
    "        found_pet_ids.append(pet_id)\n",
    "fasttext_train_df = pd.DataFrame(np.array(vects)).add_prefix('fasttext_')\n",
    "fasttext_train_df['PetID'] = found_pet_ids\n",
    "train_merged = pd.merge(pet_train, fasttext_train_df, how='left', on='PetID')"
   ]
  },
  {
   "cell_type": "code",
   "execution_count": 4,
   "metadata": {},
   "outputs": [],
   "source": [
    "text_columns = ['Description']\n",
    "\n",
    "# Fill nans with empty text\n",
    "train_merged[text_columns] = train_merged[text_columns].fillna('')\n",
    "\n",
    "# Text feature extractor class\n",
    "# We use TF-IDF vectorizer and then extract SVD and NMF vectors with 13 components each\n",
    "\n",
    "class TextFeatureExtractor():\n",
    "    \"\"\"Extracts text features from text columns.\"\"\"\n",
    "    def __init__(self, n_components):\n",
    "        self.tfidf = TfidfVectorizer(min_df=2, max_features=None,\n",
    "                          strip_accents='unicode', analyzer='word', token_pattern='\\w+',\n",
    "                          ngram_range=(1, 3), use_idf=1, smooth_idf=1, sublinear_tf=1)\n",
    "        self.svd = TruncatedSVD(n_components=n_components, random_state=seed)\n",
    "        self.nmf = NMF(n_components=n_components, random_state=seed)\n",
    "        \n",
    "    def fit_transform(self, X_text):\n",
    "        text_features = []\n",
    "        for col in X_text.columns:\n",
    "            tfidf_col = self.tfidf.fit_transform(X_text[col])\n",
    "            \n",
    "            svd_col = self.svd.fit_transform(tfidf_col)\n",
    "            svd_col = pd.DataFrame(svd_col)\n",
    "            svd_col = svd_col.add_prefix('SVD_{}_'.format(col))\n",
    "            text_features.append(svd_col)\n",
    "            \n",
    "            nmf_col = self.nmf.fit_transform(tfidf_col)\n",
    "            nmf_col = pd.DataFrame(nmf_col)\n",
    "            nmf_col = nmf_col.add_prefix('NMF_{}_'.format(col))\n",
    "            text_features.append(nmf_col)\n",
    "            \n",
    "        text_features = pd.concat(text_features, axis=1)\n",
    "        \n",
    "        return text_features\n",
    "    \n",
    "    def transform(self, X_text):\n",
    "        text_features = []\n",
    "        for col in X_text.columns:\n",
    "            tfidf_col = self.tfidf.transform(X_text[col])\n",
    "            \n",
    "            svd_col = self.svd.transform(tfidf_col)\n",
    "            svd_col = pd.DataFrame(svd_col)\n",
    "            svd_col = svd_col.add_prefix('SVD_{}_'.format(col))\n",
    "            text_features.append(svd_col)\n",
    "            \n",
    "            nmf_col = self.nmf.transform(tfidf_col)\n",
    "            nmf_col = pd.DataFrame(nmf_col)\n",
    "            nmf_col = nmf_col.add_prefix('NMF_{}_'.format(col))\n",
    "            text_features.append(nmf_col)\n",
    "            \n",
    "        text_features = pd.concat(text_features, axis=1)\n",
    "        \n",
    "        return text_features\n",
    "\n",
    "    \n",
    "text_feature_extractor = TextFeatureExtractor(n_components=13)"
   ]
  },
  {
   "cell_type": "code",
   "execution_count": 8,
   "metadata": {},
   "outputs": [],
   "source": [
    "train_merged = train_merged.drop('Description', axis=1)"
   ]
  },
  {
   "cell_type": "code",
   "execution_count": 9,
   "metadata": {},
   "outputs": [],
   "source": [
    "train_merged.to_parquet('Procesado/train_text.parquet')"
   ]
  },
  {
   "cell_type": "code",
   "execution_count": 4,
   "metadata": {},
   "outputs": [
    {
     "name": "stdout",
     "output_type": "stream",
     "text": [
      "0\n",
      "1\n",
      "2\n",
      "3\n",
      "4\n"
     ]
    }
   ],
   "source": []
  }
 ],
 "metadata": {
  "kernelspec": {
   "display_name": "Python 3",
   "language": "python",
   "name": "python3"
  },
  "language_info": {
   "codemirror_mode": {
    "name": "ipython",
    "version": 3
   },
   "file_extension": ".py",
   "mimetype": "text/x-python",
   "name": "python",
   "nbconvert_exporter": "python",
   "pygments_lexer": "ipython3",
   "version": "3.11.2"
  },
  "orig_nbformat": 4
 },
 "nbformat": 4,
 "nbformat_minor": 2
}
