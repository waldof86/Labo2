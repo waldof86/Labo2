{
  "cells": [
    {
      "attachments": {},
      "cell_type": "markdown",
      "metadata": {
        "colab_type": "text",
        "id": "view-in-github"
      },
      "source": [
        "<a href=\"https://colab.research.google.com/github/Argentan/DMA_LAB2/blob/master/tutoriales/02_intro_python.ipynb\" target=\"_parent\"><img src=\"https://colab.research.google.com/assets/colab-badge.svg\" alt=\"Open In Colab\"/></a>"
      ]
    },
    {
      "attachments": {},
      "cell_type": "markdown",
      "metadata": {
        "colab_type": "text",
        "id": "e-KEplDxcwVo"
      },
      "source": [
        "# Breve Introducción a Python\n",
        "\n",
        "Python es un lenguaje interpretado de tipos dinámicos. A diferencia de R, por ejemplo, es un lenguaje de uso general y su capacidad para las ciencias de datos no viene dada desde sus librerías internas sino por los módulos externos. Se puede usar en forma imperativa u orientada a objetos; teóricamente también dentro del paradigma de programación funcional, pero con ciertas limitaciones (existen límites para ejecución recursiva, por ejemplo).\n",
        "\n",
        "Python puro tiende a ser lento (para ejecutar, rápido para escribir), por tener tipos dinámicos y por el GIL. Sin embargo, el intérprete más comúnmente usado (CPytyhon) esta implementado en C y permite la integración de módulos externos de C, C++ y Fortran que, bien utilizados, permiten la aceleración de las partes claves de un programa. \n",
        "\n",
        "Desde lo estético, Python reemplaza las llaves por indentaciones, cosa que fuerza un código más leíble. Por lo demás, existe toda una \"filosofía\" de lo que es \"pythonico\", en términos de prolijidad, funcionalidad y belleza del código."
      ]
    },
    {
      "cell_type": "code",
      "execution_count": 1,
      "metadata": {
        "colab": {
          "base_uri": "https://localhost:8080/",
          "height": 370
        },
        "colab_type": "code",
        "id": "mN0WP8aVcwVq",
        "outputId": "5ddd3a9d-0284-4360-b554-37f8248f23ce"
      },
      "outputs": [
        {
          "name": "stdout",
          "output_type": "stream",
          "text": [
            "The Zen of Python, by Tim Peters\n",
            "\n",
            "Beautiful is better than ugly.\n",
            "Explicit is better than implicit.\n",
            "Simple is better than complex.\n",
            "Complex is better than complicated.\n",
            "Flat is better than nested.\n",
            "Sparse is better than dense.\n",
            "Readability counts.\n",
            "Special cases aren't special enough to break the rules.\n",
            "Although practicality beats purity.\n",
            "Errors should never pass silently.\n",
            "Unless explicitly silenced.\n",
            "In the face of ambiguity, refuse the temptation to guess.\n",
            "There should be one-- and preferably only one --obvious way to do it.\n",
            "Although that way may not be obvious at first unless you're Dutch.\n",
            "Now is better than never.\n",
            "Although never is often better than *right* now.\n",
            "If the implementation is hard to explain, it's a bad idea.\n",
            "If the implementation is easy to explain, it may be a good idea.\n",
            "Namespaces are one honking great idea -- let's do more of those!\n"
          ]
        }
      ],
      "source": [
        "import this"
      ]
    },
    {
      "attachments": {},
      "cell_type": "markdown",
      "metadata": {
        "colab_type": "text",
        "id": "g53olKCkcwVw"
      },
      "source": [
        "## Operaciones Básicas\n",
        "\n",
        "\n",
        "| Operador  | Operación                        | Ejemplo         |\n",
        "| --------- | -------------------------------- | --------------- |\n",
        "| **        | Potencia                         | `2 ** 3 = 8`    |\n",
        "| %         | Resto                            | `22 % 8 = 6`    |\n",
        "| //        | División de enteros              | `22 // 8 = 2`   |\n",
        "| /         | Division normal                  | `22 / 8 = 2.75` |\n",
        "| *         | Multiplicación                   | `3 * 3 = 9`     |\n",
        "| -         | Resta                            | `5 - 2 = 3`     |\n",
        "| +         | Suma         | `2 + 2 = 4`     |"
      ]
    },
    {
      "cell_type": "code",
      "execution_count": 2,
      "metadata": {
        "colab": {
          "base_uri": "https://localhost:8080/",
          "height": 34
        },
        "colab_type": "code",
        "id": "ms0eoeBhcwVx",
        "outputId": "c1091af0-28fd-4e82-aa7d-c87cbc50c9d2"
      },
      "outputs": [
        {
          "data": {
            "text/plain": [
              "2.75"
            ]
          },
          "execution_count": 2,
          "metadata": {},
          "output_type": "execute_result"
        }
      ],
      "source": [
        "22 / 8"
      ]
    },
    {
      "cell_type": "code",
      "execution_count": 3,
      "metadata": {
        "colab": {
          "base_uri": "https://localhost:8080/",
          "height": 34
        },
        "colab_type": "code",
        "id": "7irUOkxzcwV1",
        "outputId": "b8b2f66c-b18c-4d8f-c768-4797b4a10ae4"
      },
      "outputs": [
        {
          "data": {
            "text/plain": [
              "(2, 6)"
            ]
          },
          "execution_count": 3,
          "metadata": {},
          "output_type": "execute_result"
        }
      ],
      "source": [
        "22 // 8, 22 % 8"
      ]
    },
    {
      "attachments": {},
      "cell_type": "markdown",
      "metadata": {
        "colab_type": "text",
        "id": "jljwXZSCcwV4"
      },
      "source": [
        "## Variables\n",
        "\n",
        "Las variables se asignan con el signo igual =, y su nombre sólo se pueden usar letras, números y guió bajo (_), no se pueden usar espacios y tampoco pueden empezar con un número"
      ]
    },
    {
      "cell_type": "code",
      "execution_count": null,
      "metadata": {
        "colab": {
          "base_uri": "https://localhost:8080/",
          "height": 128
        },
        "colab_type": "code",
        "id": "HNsQEozZcwV5",
        "outputId": "c39a2f43-ef04-410d-abe0-55784140dfd8"
      },
      "outputs": [
        {
          "ename": "SyntaxError",
          "evalue": "ignored",
          "output_type": "error",
          "traceback": [
            "\u001b[0;36m  File \u001b[0;32m\"<ipython-input-4-83c31c4f381e>\"\u001b[0;36m, line \u001b[0;32m1\u001b[0m\n\u001b[0;31m    123var = 123\u001b[0m\n\u001b[0m         ^\u001b[0m\n\u001b[0;31mSyntaxError\u001b[0m\u001b[0;31m:\u001b[0m invalid syntax\n"
          ]
        }
      ],
      "source": [
        "123var = 123"
      ]
    },
    {
      "cell_type": "code",
      "execution_count": 4,
      "metadata": {
        "colab": {},
        "colab_type": "code",
        "id": "tqwMGxo_cwV8"
      },
      "outputs": [],
      "source": [
        "var = 123"
      ]
    },
    {
      "cell_type": "code",
      "execution_count": 5,
      "metadata": {
        "colab": {
          "base_uri": "https://localhost:8080/",
          "height": 34
        },
        "colab_type": "code",
        "id": "KRuyTzD2mcw-",
        "outputId": "5ab746fe-9d10-4909-ae36-ad7541ce9286"
      },
      "outputs": [
        {
          "data": {
            "text/plain": [
              "int"
            ]
          },
          "execution_count": 5,
          "metadata": {},
          "output_type": "execute_result"
        }
      ],
      "source": [
        "type(var)"
      ]
    },
    {
      "attachments": {},
      "cell_type": "markdown",
      "metadata": {
        "colab_type": "text",
        "id": "8AVi0fqtcwWB"
      },
      "source": [
        "## Tipos Básicos de Datos\n",
        "\n",
        "\n",
        "| Tipo  | Ejemplo\n",
        "| --------- | --------------- |\n",
        "| Lógico    | True, False| \n",
        "| Entero    | 1, 2, 3| \n",
        "| Decimal o punto flotante         | 1.25, -120.25 | \n",
        "| Cadena o texto        | Hola, Adiós              | \n",
        "| Lista        | \\[1, 2, 3\\]              |\n",
        "| Diccionario        | {\"llave\": \"valor\"}              |"
      ]
    },
    {
      "cell_type": "code",
      "execution_count": 6,
      "metadata": {
        "colab": {},
        "colab_type": "code",
        "id": "lbTfl0gScwWB"
      },
      "outputs": [],
      "source": [
        "cadena = \"estos es una cadena de texto\"\n",
        "\n",
        "entero = 10\n",
        "\n",
        "punto_flotante = 10.4\n",
        "\n",
        "punto_flotante_alternativa = 10.\n",
        "\n",
        "booleano = False\n",
        "\n",
        "lista = [\"elemento1\", \"elemento2\", 1236, 10.2, 2., True]\n",
        "\n",
        "tupla = (\"elemento1\", \"elemento2\", 1236, 10.2, 2., True)\n",
        "\n",
        "diccionario = {\"llave1\": 1, \"llave2\": 2}\n"
      ]
    },
    {
      "attachments": {},
      "cell_type": "markdown",
      "metadata": {
        "colab_type": "text",
        "id": "IaSioeQAjQZs"
      },
      "source": [
        "Vemos las Variables usando el comando mágico \"whos\"\n"
      ]
    },
    {
      "cell_type": "code",
      "execution_count": 7,
      "metadata": {
        "colab": {
          "base_uri": "https://localhost:8080/",
          "height": 218
        },
        "colab_type": "code",
        "id": "6sI7FNFxcwWF",
        "outputId": "7df6be8a-fcdd-4212-cfc1-f157b275f3ad",
        "tags": []
      },
      "outputs": [
        {
          "name": "stdout",
          "output_type": "stream",
          "text": [
            "Variable                     Type      Data/Info\n",
            "------------------------------------------------\n",
            "booleano                     bool      False\n",
            "cadena                       str       estos es una cadena de texto\n",
            "diccionario                  dict      n=2\n",
            "entero                       int       10\n",
            "lista                        list      n=6\n",
            "punto_flotante               float     10.4\n",
            "punto_flotante_alternativa   float     10.0\n",
            "this                         module    <module 'this' from 'c:\\\\<...>Python311\\\\Lib\\\\this.py'>\n",
            "tupla                        tuple     n=6\n",
            "var                          int       123\n"
          ]
        }
      ],
      "source": [
        "%whos"
      ]
    },
    {
      "attachments": {},
      "cell_type": "markdown",
      "metadata": {
        "colab_type": "text",
        "id": "bnhWjEf2cwWJ"
      },
      "source": [
        "### Operaciones con cadenas de texto\n",
        "\n",
        "Las cadenas se pueden sumar y multiplicar, dependiendo el caso multiplicar es razonable, pero sumar esta desaconsejado; se recomienda usar formateo de texto"
      ]
    },
    {
      "cell_type": "code",
      "execution_count": 8,
      "metadata": {
        "colab": {
          "base_uri": "https://localhost:8080/",
          "height": 35
        },
        "colab_type": "code",
        "id": "hIQaBeP9cwWJ",
        "outputId": "cbb37512-1a4c-43c0-f236-56fea664b1a9"
      },
      "outputs": [
        {
          "data": {
            "text/plain": [
              "'holamundo'"
            ]
          },
          "execution_count": 8,
          "metadata": {},
          "output_type": "execute_result"
        }
      ],
      "source": [
        "palabra1 = \"hola\"\n",
        "palabra2 = \"mundo\"\n",
        "palabra1 + palabra2"
      ]
    },
    {
      "attachments": {},
      "cell_type": "markdown",
      "metadata": {
        "colab_type": "text",
        "id": "zj94Rkq_j8ZA"
      },
      "source": [
        "Usando fomateo de texto:"
      ]
    },
    {
      "cell_type": "code",
      "execution_count": 11,
      "metadata": {
        "colab": {
          "base_uri": "https://localhost:8080/",
          "height": 35
        },
        "colab_type": "code",
        "id": "EYPO6jGOcwWM",
        "outputId": "746331f5-54ea-46fe-b4c3-23090e964942"
      },
      "outputs": [
        {
          "data": {
            "text/plain": [
              "'hola vfygubni mundo'"
            ]
          },
          "execution_count": 11,
          "metadata": {},
          "output_type": "execute_result"
        }
      ],
      "source": [
        "f\"{palabra1} {palabra2}\""
      ]
    },
    {
      "cell_type": "code",
      "execution_count": 13,
      "metadata": {
        "colab": {
          "base_uri": "https://localhost:8080/",
          "height": 35
        },
        "colab_type": "code",
        "id": "e8XSiH9tcwWS",
        "outputId": "7347d644-aa65-453d-9f32-887cb23aea8f"
      },
      "outputs": [
        {
          "data": {
            "text/plain": [
              "'interpolar tambien permite cosas complejas como separador de miles 1,233,432.13 o porcentajes 16%'"
            ]
          },
          "execution_count": 13,
          "metadata": {},
          "output_type": "execute_result"
        }
      ],
      "source": [
        "num = 1233432.127\n",
        "por = 0.1568\n",
        "\n",
        "f\"interpolar tambien permite cosas complejas como separador de miles {num:,.2f} o porcentajes {por:.0%}\""
      ]
    },
    {
      "attachments": {},
      "cell_type": "markdown",
      "metadata": {
        "colab_type": "text",
        "id": "OCX5An0YkEA9"
      },
      "source": [
        "### Funciones básicas de los diccionarios"
      ]
    },
    {
      "cell_type": "code",
      "execution_count": 15,
      "metadata": {
        "colab": {
          "base_uri": "https://localhost:8080/",
          "height": 34
        },
        "colab_type": "code",
        "id": "xb_fQcjOlKHB",
        "outputId": "6bea473d-0fbb-4dde-ef5e-a75aa951f48d"
      },
      "outputs": [
        {
          "data": {
            "text/plain": [
              "{'llave1': 1, 'llave2': 2}"
            ]
          },
          "execution_count": 15,
          "metadata": {},
          "output_type": "execute_result"
        }
      ],
      "source": [
        "diccionario"
      ]
    },
    {
      "cell_type": "code",
      "execution_count": 17,
      "metadata": {
        "colab": {
          "base_uri": "https://localhost:8080/",
          "height": 34
        },
        "colab_type": "code",
        "id": "VRW87CE-cwWZ",
        "outputId": "8532c85d-9c9f-4ec6-89c7-2332cde602ba"
      },
      "outputs": [
        {
          "data": {
            "text/plain": [
              "dict_keys(['llave1', 'llave2'])"
            ]
          },
          "execution_count": 17,
          "metadata": {},
          "output_type": "execute_result"
        }
      ],
      "source": [
        "diccionario.keys()"
      ]
    },
    {
      "cell_type": "code",
      "execution_count": 18,
      "metadata": {
        "colab": {
          "base_uri": "https://localhost:8080/",
          "height": 34
        },
        "colab_type": "code",
        "id": "ogwK-KQYcwWc",
        "outputId": "1cd3965b-bd78-4055-9ba5-0e4441edea35"
      },
      "outputs": [
        {
          "data": {
            "text/plain": [
              "dict_values([1, 2])"
            ]
          },
          "execution_count": 18,
          "metadata": {},
          "output_type": "execute_result"
        }
      ],
      "source": [
        "diccionario.values()"
      ]
    },
    {
      "cell_type": "code",
      "execution_count": 19,
      "metadata": {
        "colab": {
          "base_uri": "https://localhost:8080/",
          "height": 34
        },
        "colab_type": "code",
        "id": "8InIw4GbcwWf",
        "outputId": "124b8de5-e601-4c7f-aa86-d5d2907bf0bf"
      },
      "outputs": [
        {
          "data": {
            "text/plain": [
              "dict_items([('llave1', 1), ('llave2', 2)])"
            ]
          },
          "execution_count": 19,
          "metadata": {},
          "output_type": "execute_result"
        }
      ],
      "source": [
        "diccionario.items()"
      ]
    },
    {
      "cell_type": "code",
      "execution_count": 20,
      "metadata": {
        "colab": {
          "base_uri": "https://localhost:8080/",
          "height": 34
        },
        "colab_type": "code",
        "id": "3YuWQn5PcwWj",
        "outputId": "1c9c340c-dba2-4e24-a9fd-a394be0415b6",
        "tags": []
      },
      "outputs": [
        {
          "data": {
            "text/plain": [
              "1"
            ]
          },
          "execution_count": 20,
          "metadata": {},
          "output_type": "execute_result"
        }
      ],
      "source": [
        "diccionario[\"llave1\"]"
      ]
    },
    {
      "attachments": {},
      "cell_type": "markdown",
      "metadata": {
        "colab_type": "text",
        "id": "soNV1KDSlPnm"
      },
      "source": [
        "### Funciones básicas de las Listas"
      ]
    },
    {
      "attachments": {},
      "cell_type": "markdown",
      "metadata": {
        "colab_type": "text",
        "id": "EL8UIRKLm33h"
      },
      "source": [
        "Los elementos de una lista se pueden acceder mediante su indice\n",
        "\n",
        "* Todos los indices empiezan en 0\n",
        "* Se usan numeros enteros\n",
        "* El indice maximo equivale a la cantidad de (elementos - 1)\n",
        "* Se accede al elemento con [*indice*]\n",
        "* Si el indice es negativo, se cuenta desde el final"
      ]
    },
    {
      "cell_type": "code",
      "execution_count": 21,
      "metadata": {
        "colab": {
          "base_uri": "https://localhost:8080/",
          "height": 34
        },
        "colab_type": "code",
        "id": "xSAUzLSilL3w",
        "outputId": "72c9207c-7dfa-4ae0-d4ac-777af2c23b28"
      },
      "outputs": [
        {
          "data": {
            "text/plain": [
              "['elemento1', 'elemento2', 1236, 10.2, 2.0, True]"
            ]
          },
          "execution_count": 21,
          "metadata": {},
          "output_type": "execute_result"
        }
      ],
      "source": [
        "lista"
      ]
    },
    {
      "cell_type": "code",
      "execution_count": 22,
      "metadata": {
        "colab": {
          "base_uri": "https://localhost:8080/",
          "height": 35
        },
        "colab_type": "code",
        "id": "c0ldNTJAcwWm",
        "outputId": "1c45c131-7580-43b1-9251-f5bd633550e3"
      },
      "outputs": [
        {
          "data": {
            "text/plain": [
              "'elemento1'"
            ]
          },
          "execution_count": 22,
          "metadata": {},
          "output_type": "execute_result"
        }
      ],
      "source": [
        "lista[0]"
      ]
    },
    {
      "cell_type": "code",
      "execution_count": 23,
      "metadata": {
        "colab": {
          "base_uri": "https://localhost:8080/",
          "height": 35
        },
        "colab_type": "code",
        "id": "v_lld55vcwWp",
        "outputId": "7db7df96-6fc0-47c1-87e9-d95f513deff2"
      },
      "outputs": [
        {
          "data": {
            "text/plain": [
              "'elemento1'"
            ]
          },
          "execution_count": 23,
          "metadata": {},
          "output_type": "execute_result"
        }
      ],
      "source": [
        "tupla[0]"
      ]
    },
    {
      "cell_type": "code",
      "execution_count": 24,
      "metadata": {
        "colab": {
          "base_uri": "https://localhost:8080/",
          "height": 34
        },
        "colab_type": "code",
        "id": "vZ3ylubycwWs",
        "outputId": "2fd05a6f-6288-4ee3-b296-36bbba8542d3"
      },
      "outputs": [
        {
          "data": {
            "text/plain": [
              "True"
            ]
          },
          "execution_count": 24,
          "metadata": {},
          "output_type": "execute_result"
        }
      ],
      "source": [
        "lista[-1]"
      ]
    },
    {
      "cell_type": "code",
      "execution_count": 25,
      "metadata": {
        "colab": {
          "base_uri": "https://localhost:8080/",
          "height": 34
        },
        "colab_type": "code",
        "id": "wXXZnirYcwWy",
        "outputId": "445bbc90-7bd9-4f34-f857-a1c80a5c62f6"
      },
      "outputs": [
        {
          "data": {
            "text/plain": [
              "['otro elemento', 'elemento2', 1236, 10.2, 2.0, True]"
            ]
          },
          "execution_count": 25,
          "metadata": {},
          "output_type": "execute_result"
        }
      ],
      "source": [
        "lista[0] = \"otro elemento\"\n",
        "lista"
      ]
    },
    {
      "cell_type": "code",
      "execution_count": 26,
      "metadata": {
        "colab": {
          "base_uri": "https://localhost:8080/",
          "height": 162
        },
        "colab_type": "code",
        "id": "5xqa9vXFcwW1",
        "outputId": "4a207804-4c3c-4f1c-9621-a0b8e3791f13"
      },
      "outputs": [
        {
          "ename": "TypeError",
          "evalue": "'tuple' object does not support item assignment",
          "output_type": "error",
          "traceback": [
            "\u001b[1;31m---------------------------------------------------------------------------\u001b[0m",
            "\u001b[1;31mTypeError\u001b[0m                                 Traceback (most recent call last)",
            "Cell \u001b[1;32mIn[26], line 1\u001b[0m\n\u001b[1;32m----> 1\u001b[0m tupla[\u001b[39m0\u001b[39;49m] \u001b[39m=\u001b[39m \u001b[39m\"\u001b[39m\u001b[39motro elemento\u001b[39m\u001b[39m\"\u001b[39m\n",
            "\u001b[1;31mTypeError\u001b[0m: 'tuple' object does not support item assignment"
          ]
        }
      ],
      "source": [
        "tupla[0] = \"otro elemento\""
      ]
    },
    {
      "attachments": {},
      "cell_type": "markdown",
      "metadata": {
        "colab_type": "text",
        "id": "Kt5ujtaHbGU7"
      },
      "source": [
        "### Seleccionando rangos\n",
        "Se pueden seleccionar mas de un elemento de una lista usando '**:**'\n",
        "\n",
        "Para seleccionar los primeros 2 se hace **[:2]**"
      ]
    },
    {
      "cell_type": "code",
      "execution_count": 27,
      "metadata": {
        "colab": {
          "base_uri": "https://localhost:8080/",
          "height": 34
        },
        "colab_type": "code",
        "id": "b0zVMSoBbGU8",
        "outputId": "ebede4da-49b6-441d-8d58-83240cf80d92"
      },
      "outputs": [
        {
          "data": {
            "text/plain": [
              "['otro elemento', 'elemento2']"
            ]
          },
          "execution_count": 27,
          "metadata": {},
          "output_type": "execute_result"
        }
      ],
      "source": [
        "lista[:2]"
      ]
    },
    {
      "attachments": {},
      "cell_type": "markdown",
      "metadata": {
        "colab_type": "text",
        "id": "7UFlt-jabGU_"
      },
      "source": [
        "Los ultimos dos:"
      ]
    },
    {
      "cell_type": "code",
      "execution_count": 28,
      "metadata": {
        "colab": {
          "base_uri": "https://localhost:8080/",
          "height": 34
        },
        "colab_type": "code",
        "id": "7EpjzgR2bGU_",
        "outputId": "f14bcea5-a1f2-48a8-f639-c63f97a32184"
      },
      "outputs": [
        {
          "data": {
            "text/plain": [
              "[2.0, True]"
            ]
          },
          "execution_count": 28,
          "metadata": {},
          "output_type": "execute_result"
        }
      ],
      "source": [
        "lista[-2:]"
      ]
    },
    {
      "attachments": {},
      "cell_type": "markdown",
      "metadata": {
        "colab_type": "text",
        "id": "RKQRq8aEbGVD"
      },
      "source": [
        "Que es lo mismo que seleccionar desde el 3o al ultimo"
      ]
    },
    {
      "cell_type": "code",
      "execution_count": 29,
      "metadata": {
        "colab": {
          "base_uri": "https://localhost:8080/",
          "height": 34
        },
        "colab_type": "code",
        "id": "fevDPv2UbGVE",
        "outputId": "5ea12d41-68a6-4e9c-d6ab-e4bcdae18955"
      },
      "outputs": [
        {
          "data": {
            "text/plain": [
              "[10.2, 2.0, True]"
            ]
          },
          "execution_count": 29,
          "metadata": {},
          "output_type": "execute_result"
        }
      ],
      "source": [
        "lista[3:]"
      ]
    },
    {
      "attachments": {},
      "cell_type": "markdown",
      "metadata": {
        "colab_type": "text",
        "id": "GBvRbjv6bGVJ"
      },
      "source": [
        "Del segundo al cuarto (ojo que el segundo elemento es el indice 1)"
      ]
    },
    {
      "cell_type": "code",
      "execution_count": 30,
      "metadata": {
        "colab": {
          "base_uri": "https://localhost:8080/",
          "height": 34
        },
        "colab_type": "code",
        "id": "2hrrBggVbGVK",
        "outputId": "47ac9db8-6bdd-47eb-9f6f-81ae60965c90"
      },
      "outputs": [
        {
          "data": {
            "text/plain": [
              "['elemento2', 1236, 10.2]"
            ]
          },
          "execution_count": 30,
          "metadata": {},
          "output_type": "execute_result"
        }
      ],
      "source": [
        "lista[1:4]"
      ]
    },
    {
      "attachments": {},
      "cell_type": "markdown",
      "metadata": {
        "colab_type": "text",
        "id": "J0LrD8KXnK7n"
      },
      "source": [
        "### Agragando datos a una Lista"
      ]
    },
    {
      "attachments": {},
      "cell_type": "markdown",
      "metadata": {
        "colab_type": "text",
        "id": "XP6HE7SRnZ9c"
      },
      "source": [
        "Usando append() lo agrego al final"
      ]
    },
    {
      "cell_type": "code",
      "execution_count": 31,
      "metadata": {
        "colab": {
          "base_uri": "https://localhost:8080/",
          "height": 34
        },
        "colab_type": "code",
        "id": "cfmKy0TOnbCc",
        "outputId": "773d6275-d3f8-47dd-9ee5-3d9491b2672e"
      },
      "outputs": [
        {
          "data": {
            "text/plain": [
              "['Pedro', 'Lucia', 'Juan', 'Maria', 'Manuel']"
            ]
          },
          "execution_count": 31,
          "metadata": {},
          "output_type": "execute_result"
        }
      ],
      "source": [
        "nombres = ['Pedro', 'Lucia', 'Juan', 'Maria']\n",
        "nombres.append('Manuel')\n",
        "nombres"
      ]
    },
    {
      "attachments": {},
      "cell_type": "markdown",
      "metadata": {
        "colab_type": "text",
        "id": "c91LfLI_nnh3"
      },
      "source": [
        "Usando insert() le digo la posición donde insertarlo"
      ]
    },
    {
      "cell_type": "code",
      "execution_count": 32,
      "metadata": {
        "colab": {
          "base_uri": "https://localhost:8080/",
          "height": 34
        },
        "colab_type": "code",
        "id": "f6JKJIp0nnHQ",
        "outputId": "aa1bf296-ecb0-48b8-e04e-7bf9b4cbc3a1"
      },
      "outputs": [
        {
          "data": {
            "text/plain": [
              "['Pedro', 'Manuel', 'Lucia', 'Juan', 'Maria']"
            ]
          },
          "execution_count": 32,
          "metadata": {},
          "output_type": "execute_result"
        }
      ],
      "source": [
        "nombres = ['Pedro', 'Lucia', 'Juan', 'Maria']\n",
        "nombres.insert(1, 'Manuel')\n",
        "nombres"
      ]
    },
    {
      "attachments": {},
      "cell_type": "markdown",
      "metadata": {
        "colab_type": "text",
        "id": "MCdVSyExoCIg"
      },
      "source": [
        "### Elimino Valores de Una lista o los Ordeno"
      ]
    },
    {
      "attachments": {},
      "cell_type": "markdown",
      "metadata": {
        "colab_type": "text",
        "id": "L24EcTTSoHSf"
      },
      "source": [
        "Puedo Eliminarlos usando remove()"
      ]
    },
    {
      "cell_type": "code",
      "execution_count": 41,
      "metadata": {
        "colab": {
          "base_uri": "https://localhost:8080/",
          "height": 34
        },
        "colab_type": "code",
        "id": "YbL4PhvCoLZ_",
        "outputId": "335525cf-7621-4271-8086-f4b92e3d8df3"
      },
      "outputs": [
        {
          "data": {
            "text/plain": [
              "['Pedro', 'Juan', 'Maria']"
            ]
          },
          "execution_count": 41,
          "metadata": {},
          "output_type": "execute_result"
        }
      ],
      "source": [
        "nombres = ['Pedro', 'Lucia', 'Juan', 'Maria']\n",
        "nombres.remove('Lucia')\n",
        "nombres"
      ]
    },
    {
      "attachments": {},
      "cell_type": "markdown",
      "metadata": {
        "colab_type": "text",
        "id": "oRKnSStEoQJm"
      },
      "source": [
        "Puedo ordenarlos usando sort()"
      ]
    },
    {
      "cell_type": "code",
      "execution_count": 42,
      "metadata": {
        "colab": {
          "base_uri": "https://localhost:8080/",
          "height": 34
        },
        "colab_type": "code",
        "id": "sUWH_0KWoSe6",
        "outputId": "f6400ac5-0e94-4dfb-b330-01cecf082790"
      },
      "outputs": [
        {
          "data": {
            "text/plain": [
              "[-7, 1, 2, 3.14, 5]"
            ]
          },
          "execution_count": 42,
          "metadata": {},
          "output_type": "execute_result"
        }
      ],
      "source": [
        "numeros = [2, 5, 3.14, 1, -7]\n",
        "numeros.sort()\n",
        "numeros"
      ]
    },
    {
      "cell_type": "code",
      "execution_count": 43,
      "metadata": {
        "colab": {
          "base_uri": "https://localhost:8080/",
          "height": 34
        },
        "colab_type": "code",
        "id": "91gs5jKgoXs8",
        "outputId": "29ebb069-8139-4165-dcc6-4184a3033371"
      },
      "outputs": [
        {
          "data": {
            "text/plain": [
              "['Juan', 'Lucia', 'Maria', 'Pedro']"
            ]
          },
          "execution_count": 43,
          "metadata": {},
          "output_type": "execute_result"
        }
      ],
      "source": [
        "nombres = ['Pedro', 'Lucia', 'Juan', 'Maria']\n",
        "nombres.sort()\n",
        "nombres"
      ]
    },
    {
      "attachments": {},
      "cell_type": "markdown",
      "metadata": {
        "colab_type": "text",
        "id": "K3RO3oVUoldd"
      },
      "source": [
        "Puedo invertir el orden con reverse="
      ]
    },
    {
      "cell_type": "code",
      "execution_count": 44,
      "metadata": {
        "colab": {
          "base_uri": "https://localhost:8080/",
          "height": 34
        },
        "colab_type": "code",
        "id": "QqJyKSZNog51",
        "outputId": "68abd1a1-4235-48ba-c3b9-255c2d1b0c5c"
      },
      "outputs": [
        {
          "data": {
            "text/plain": [
              "[5, 3.14, 2, 1, -7]"
            ]
          },
          "execution_count": 44,
          "metadata": {},
          "output_type": "execute_result"
        }
      ],
      "source": [
        "numeros.sort(reverse=True)\n",
        "numeros"
      ]
    },
    {
      "attachments": {},
      "cell_type": "markdown",
      "metadata": {
        "colab_type": "text",
        "id": "kGxP0Qz24-7S"
      },
      "source": [
        "## Ejercicios"
      ]
    },
    {
      "attachments": {},
      "cell_type": "markdown",
      "metadata": {
        "colab_type": "text",
        "id": "qlzrN9NHnuQB"
      },
      "source": [
        "#### Objetos y Tipos\n"
      ]
    },
    {
      "attachments": {},
      "cell_type": "markdown",
      "metadata": {
        "colab_type": "text",
        "id": "WUOCDKpE5DZV"
      },
      "source": [
        "Asignar a un objeto llamado \"Numero\" el resultado de: 100 / 4"
      ]
    },
    {
      "cell_type": "code",
      "execution_count": 46,
      "metadata": {
        "colab": {},
        "colab_type": "code",
        "id": "Dp-SMIjH5ByA"
      },
      "outputs": [
        {
          "data": {
            "text/plain": [
              "25.0"
            ]
          },
          "execution_count": 46,
          "metadata": {},
          "output_type": "execute_result"
        }
      ],
      "source": [
        "Numero = 100 /4\n",
        "Numero"
      ]
    },
    {
      "attachments": {},
      "cell_type": "markdown",
      "metadata": {
        "colab_type": "text",
        "id": "CwvaZdLy5LxJ"
      },
      "source": [
        "Ver el Tipo de Dato de el objeto Numero"
      ]
    },
    {
      "cell_type": "code",
      "execution_count": 47,
      "metadata": {
        "colab": {},
        "colab_type": "code",
        "id": "ZgLehZki5ipM"
      },
      "outputs": [
        {
          "data": {
            "text/plain": [
              "float"
            ]
          },
          "execution_count": 47,
          "metadata": {},
          "output_type": "execute_result"
        }
      ],
      "source": [
        "type(Numero)"
      ]
    },
    {
      "attachments": {},
      "cell_type": "markdown",
      "metadata": {
        "colab_type": "text",
        "id": "GmdMqgOXnq3t"
      },
      "source": [
        "#### Listas"
      ]
    },
    {
      "attachments": {},
      "cell_type": "markdown",
      "metadata": {
        "colab_type": "text",
        "id": "Mg5vnAn36CuH"
      },
      "source": [
        "Crear una Lista llamada \"Letras\" que contenga 5 letras de la A a la E  (A, B, C, D, E)"
      ]
    },
    {
      "cell_type": "code",
      "execution_count": 49,
      "metadata": {
        "colab": {},
        "colab_type": "code",
        "id": "N3gKq4Tg6Bzl"
      },
      "outputs": [
        {
          "data": {
            "text/plain": [
              "['A', 'B', 'C', 'D', 'E']"
            ]
          },
          "execution_count": 49,
          "metadata": {},
          "output_type": "execute_result"
        }
      ],
      "source": [
        "Letras = ['A','B','C','D','E']\n",
        "Letras"
      ]
    },
    {
      "attachments": {},
      "cell_type": "markdown",
      "metadata": {
        "colab_type": "text",
        "id": "9UQAM2k_6cvK"
      },
      "source": [
        "Buscar, usando el indice, el primer y el ultimo elemento de la lista"
      ]
    },
    {
      "cell_type": "code",
      "execution_count": 53,
      "metadata": {
        "colab": {},
        "colab_type": "code",
        "id": "zRByJpEp6cLU"
      },
      "outputs": [
        {
          "name": "stdout",
          "output_type": "stream",
          "text": [
            "A\n"
          ]
        }
      ],
      "source": [
        "print(Letras[0])"
      ]
    },
    {
      "cell_type": "code",
      "execution_count": 52,
      "metadata": {
        "colab": {},
        "colab_type": "code",
        "id": "MRI3kQkl63wf"
      },
      "outputs": [
        {
          "name": "stdout",
          "output_type": "stream",
          "text": [
            "E\n"
          ]
        }
      ],
      "source": [
        "print(Letras[-1])"
      ]
    },
    {
      "attachments": {},
      "cell_type": "markdown",
      "metadata": {
        "colab_type": "text",
        "id": "bY6rTZCG62wu"
      },
      "source": [
        "Buscar, usando el indice, los 3 primeros elementos de la lista"
      ]
    },
    {
      "cell_type": "code",
      "execution_count": 55,
      "metadata": {
        "colab": {},
        "colab_type": "code",
        "id": "a1eBD__q6kl_"
      },
      "outputs": [
        {
          "data": {
            "text/plain": [
              "['A', 'B', 'C']"
            ]
          },
          "execution_count": 55,
          "metadata": {},
          "output_type": "execute_result"
        }
      ],
      "source": [
        "Letras[0:3]"
      ]
    }
  ],
  "metadata": {
    "colab": {
      "include_colab_link": true,
      "name": "02_intro_python.ipynb",
      "provenance": []
    },
    "kernelspec": {
      "display_name": "Python 3",
      "language": "python",
      "name": "python3"
    },
    "language_info": {
      "codemirror_mode": {
        "name": "ipython",
        "version": 3
      },
      "file_extension": ".py",
      "mimetype": "text/x-python",
      "name": "python",
      "nbconvert_exporter": "python",
      "pygments_lexer": "ipython3",
      "version": "3.11.2"
    }
  },
  "nbformat": 4,
  "nbformat_minor": 0
}
