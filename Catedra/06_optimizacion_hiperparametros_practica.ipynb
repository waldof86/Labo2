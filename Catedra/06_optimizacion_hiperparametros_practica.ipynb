{
 "metadata": {
  "language_info": {
   "codemirror_mode": {
    "name": "ipython",
    "version": 3
   },
   "file_extension": ".py",
   "mimetype": "text/x-python",
   "name": "python",
   "nbconvert_exporter": "python",
   "pygments_lexer": "ipython3",
   "version": "3.7.9-final"
  },
  "orig_nbformat": 2,
  "kernelspec": {
   "name": "python3",
   "display_name": "Python 3"
  }
 },
 "nbformat": 4,
 "nbformat_minor": 2,
 "cells": [
  {
   "source": [
    "<a href=\"https://colab.research.google.com/github/Argentan/DMA_LAB2/blob/master/tutoriales/06_optimizacion_hiperparametros_practica.ipynb\" target=\"_parent\"><img src=\"https://colab.research.google.com/assets/colab-badge.svg\" alt=\"Open In Colab\"/></a>"
   ],
   "cell_type": "markdown",
   "metadata": {}
  },
  {
   "cell_type": "code",
   "execution_count": 44,
   "metadata": {},
   "outputs": [
    {
     "output_type": "execute_result",
     "data": {
      "text/plain": [
       "             Survived  Pclass  Sex   Age  SibSp  Parch  Ticket     Fare  \\\n",
       "PassengerId                                                               \n",
       "1                   0       3    0  22.0      1      0       0   7.2500   \n",
       "2                   1       1    1  38.0      1      0       1  71.2833   \n",
       "3                   1       3    1  26.0      0      0       2   7.9250   \n",
       "4                   1       1    1  35.0      1      0       3  53.1000   \n",
       "5                   0       3    0  35.0      0      0       4   8.0500   \n",
       "\n",
       "             Cabin  NumFam  C  Q  S  Age_nul  \n",
       "PassengerId                                   \n",
       "1                0       1  0  0  1        0  \n",
       "2                1       1  1  0  0        0  \n",
       "3                0       0  0  0  1        0  \n",
       "4                2       1  0  0  1        0  \n",
       "5                0       0  0  0  1        0  "
      ],
      "text/html": "<div>\n<style scoped>\n    .dataframe tbody tr th:only-of-type {\n        vertical-align: middle;\n    }\n\n    .dataframe tbody tr th {\n        vertical-align: top;\n    }\n\n    .dataframe thead th {\n        text-align: right;\n    }\n</style>\n<table border=\"1\" class=\"dataframe\">\n  <thead>\n    <tr style=\"text-align: right;\">\n      <th></th>\n      <th>Survived</th>\n      <th>Pclass</th>\n      <th>Sex</th>\n      <th>Age</th>\n      <th>SibSp</th>\n      <th>Parch</th>\n      <th>Ticket</th>\n      <th>Fare</th>\n      <th>Cabin</th>\n      <th>NumFam</th>\n      <th>C</th>\n      <th>Q</th>\n      <th>S</th>\n      <th>Age_nul</th>\n    </tr>\n    <tr>\n      <th>PassengerId</th>\n      <th></th>\n      <th></th>\n      <th></th>\n      <th></th>\n      <th></th>\n      <th></th>\n      <th></th>\n      <th></th>\n      <th></th>\n      <th></th>\n      <th></th>\n      <th></th>\n      <th></th>\n      <th></th>\n    </tr>\n  </thead>\n  <tbody>\n    <tr>\n      <th>1</th>\n      <td>0</td>\n      <td>3</td>\n      <td>0</td>\n      <td>22.0</td>\n      <td>1</td>\n      <td>0</td>\n      <td>0</td>\n      <td>7.2500</td>\n      <td>0</td>\n      <td>1</td>\n      <td>0</td>\n      <td>0</td>\n      <td>1</td>\n      <td>0</td>\n    </tr>\n    <tr>\n      <th>2</th>\n      <td>1</td>\n      <td>1</td>\n      <td>1</td>\n      <td>38.0</td>\n      <td>1</td>\n      <td>0</td>\n      <td>1</td>\n      <td>71.2833</td>\n      <td>1</td>\n      <td>1</td>\n      <td>1</td>\n      <td>0</td>\n      <td>0</td>\n      <td>0</td>\n    </tr>\n    <tr>\n      <th>3</th>\n      <td>1</td>\n      <td>3</td>\n      <td>1</td>\n      <td>26.0</td>\n      <td>0</td>\n      <td>0</td>\n      <td>2</td>\n      <td>7.9250</td>\n      <td>0</td>\n      <td>0</td>\n      <td>0</td>\n      <td>0</td>\n      <td>1</td>\n      <td>0</td>\n    </tr>\n    <tr>\n      <th>4</th>\n      <td>1</td>\n      <td>1</td>\n      <td>1</td>\n      <td>35.0</td>\n      <td>1</td>\n      <td>0</td>\n      <td>3</td>\n      <td>53.1000</td>\n      <td>2</td>\n      <td>1</td>\n      <td>0</td>\n      <td>0</td>\n      <td>1</td>\n      <td>0</td>\n    </tr>\n    <tr>\n      <th>5</th>\n      <td>0</td>\n      <td>3</td>\n      <td>0</td>\n      <td>35.0</td>\n      <td>0</td>\n      <td>0</td>\n      <td>4</td>\n      <td>8.0500</td>\n      <td>0</td>\n      <td>0</td>\n      <td>0</td>\n      <td>0</td>\n      <td>1</td>\n      <td>0</td>\n    </tr>\n  </tbody>\n</table>\n</div>"
     },
     "metadata": {},
     "execution_count": 44
    }
   ],
   "source": [
    "import pandas as pd\n",
    "try:\n",
    "    data = pd.read_csv(\"../data/titanic_proc.csv\", index_col=\"PassengerId\")\n",
    "except:\n",
    "    data = pd.read_csv(\"https://raw.githubusercontent.com/Argentan/DMA_LAB2/master/data/titanic_proc.csv\", index_col=\"PassengerId\")\n",
    "data.head()"
   ]
  },
  {
   "cell_type": "code",
   "execution_count": 45,
   "metadata": {},
   "outputs": [],
   "source": [
    "from sklearn.linear_model import LogisticRegression\n",
    "from lightgbm import LGBMClassifier\n",
    "from sklearn.model_selection import train_test_split, KFold, ParameterGrid"
   ]
  },
  {
   "cell_type": "code",
   "execution_count": 46,
   "metadata": {},
   "outputs": [],
   "source": [
    "train, test = train_test_split(data, test_size=0.2, random_state=1)"
   ]
  },
  {
   "cell_type": "code",
   "execution_count": 47,
   "metadata": {},
   "outputs": [],
   "source": [
    "folds = [train.index[idx] for _, idx in KFold(5, shuffle=True, random_state=1).split(train)]"
   ]
  },
  {
   "cell_type": "code",
   "execution_count": 53,
   "metadata": {},
   "outputs": [],
   "source": [
    "candidatos = [\n",
    "    {\"algoritmo\": LogisticRegression, \"params\": {\"C\": [0.1, 1], \"penalty\": [ \"l2\"]}},\n",
    "    {\"algoritmo\": LGBMClassifier, \"params\": {\"num_leaves\": [10 , 20], \"max_depth\": [4 , 6, 8]}}\n",
    "]"
   ]
  },
  {
   "cell_type": "code",
   "execution_count": 81,
   "metadata": {},
   "outputs": [],
   "source": [
    "valid_probs = []\n",
    "test_probs = []\n",
    "for candidato in candidatos:\n",
    "    for params in ParameterGrid(candidato[\"params\"]):\n",
    "        test_fold_probs = []\n",
    "        valid_fold_probs = []\n",
    "        name = candidato[\"algoritmo\"].__name__ + \";\" + \";\".join([f\"{k}_{v}\" for k, v in params.items()])\n",
    "        for valid_idx in folds:\n",
    "            X_valid = train.loc[valid_idx].drop(\"Survived\", axis=1)\n",
    "            # y_valid = train.loc[valid_idx, \"Survived\"]\n",
    "\n",
    "            X_train = train.drop(valid_idx).drop(\"Survived\", axis=1)\n",
    "            y_train = train.loc[X_train.index, \"Survived\"]\n",
    "\n",
    "            model = candidato[\"algoritmo\"](**params)\n",
    "            model.fit(X_train, y_train)\n",
    "\n",
    "            p = model.predict_proba(test.drop(\"Survived\", axis=1))[:, -1]\n",
    "            test_fold_probs.append(pd.Series(p, name=name, index=test.index))\n",
    "\n",
    "            p = model.predict_proba(X_valid)[:, -1]\n",
    "            valid_fold_probs.append(pd.Series(p, name=name, index=X_valid.index))\n",
    "        test_probs.append(pd.concat(test_fold_probs, axis=1).mean(axis=1).rename(name))\n",
    "        valid_probs.append(pd.concat(valid_fold_probs))\n",
    "valid_probs = pd.concat(valid_probs, axis=1)\n",
    "test_probs = pd.concat(test_probs, axis=1)"
   ]
  },
  {
   "cell_type": "code",
   "execution_count": 84,
   "metadata": {},
   "outputs": [],
   "source": [
    "from sklearn.metrics import roc_auc_score"
   ]
  },
  {
   "cell_type": "code",
   "execution_count": 89,
   "metadata": {},
   "outputs": [
    {
     "output_type": "execute_result",
     "data": {
      "text/plain": [
       "LogisticRegression;C_0.1;penalty_l2         0.851024\n",
       "LogisticRegression;C_1;penalty_l2           0.854876\n",
       "LGBMClassifier;max_depth_4;num_leaves_10    0.866498\n",
       "LGBMClassifier;max_depth_4;num_leaves_20    0.866020\n",
       "LGBMClassifier;max_depth_6;num_leaves_10    0.863469\n",
       "LGBMClassifier;max_depth_6;num_leaves_20    0.860842\n",
       "LGBMClassifier;max_depth_8;num_leaves_10    0.866104\n",
       "LGBMClassifier;max_depth_8;num_leaves_20    0.855363\n",
       "Name: resultados, dtype: float64"
      ]
     },
     "metadata": {},
     "execution_count": 89
    }
   ],
   "source": [
    "valid_res = pd.Series([roc_auc_score(train.loc[valid_probs.index, \"Survived\"], valid_probs[c])\n",
    "                       for c in valid_probs],\n",
    "                       name=\"resultados\", index=valid_probs.columns)\n",
    "valid_res"
   ]
  },
  {
   "cell_type": "code",
   "execution_count": 93,
   "metadata": {},
   "outputs": [
    {
     "output_type": "execute_result",
     "data": {
      "text/plain": [
       "LogisticRegression;C_0.1;penalty_l2         0.810933\n",
       "LogisticRegression;C_1;penalty_l2           0.817136\n",
       "LGBMClassifier;max_depth_4;num_leaves_10    0.830318\n",
       "LGBMClassifier;max_depth_4;num_leaves_20    0.833032\n",
       "LGBMClassifier;max_depth_6;num_leaves_10    0.830576\n",
       "LGBMClassifier;max_depth_6;num_leaves_20    0.823339\n",
       "LGBMClassifier;max_depth_8;num_leaves_10    0.826570\n",
       "LGBMClassifier;max_depth_8;num_leaves_20    0.827604\n",
       "Name: resultados, dtype: float64"
      ]
     },
     "metadata": {},
     "execution_count": 93
    }
   ],
   "source": [
    "test_res = pd.Series([roc_auc_score(test.loc[test_probs.index, \"Survived\"], test_probs[c])\n",
    "                       for c in test_probs],\n",
    "                       name=\"resultados\", index=test_probs.columns)\n",
    "test_res"
   ]
  },
  {
   "cell_type": "code",
   "execution_count": 91,
   "metadata": {},
   "outputs": [
    {
     "output_type": "execute_result",
     "data": {
      "text/plain": [
       "'LGBMClassifier;max_depth_4;num_leaves_10'"
      ]
     },
     "metadata": {},
     "execution_count": 91
    }
   ],
   "source": [
    "valid_res.idxmax()"
   ]
  },
  {
   "cell_type": "code",
   "execution_count": 83,
   "metadata": {},
   "outputs": [
    {
     "output_type": "execute_result",
     "data": {
      "text/plain": [
       "             LogisticRegression;C_0.1;penalty_l2  \\\n",
       "PassengerId                                        \n",
       "863                                     0.909124   \n",
       "224                                     0.117250   \n",
       "85                                      0.674515   \n",
       "681                                     0.543710   \n",
       "536                                     0.773066   \n",
       "...                                          ...   \n",
       "797                                     0.906505   \n",
       "816                                     0.654287   \n",
       "630                                     0.157757   \n",
       "422                                     0.214196   \n",
       "449                                     0.651337   \n",
       "\n",
       "             LogisticRegression;C_1;penalty_l2  \\\n",
       "PassengerId                                      \n",
       "863                                   0.957677   \n",
       "224                                   0.070377   \n",
       "85                                    0.799713   \n",
       "681                                   0.633973   \n",
       "536                                   0.855788   \n",
       "...                                        ...   \n",
       "797                                   0.955890   \n",
       "816                                   0.642043   \n",
       "630                                   0.105379   \n",
       "422                                   0.169956   \n",
       "449                                   0.731190   \n",
       "\n",
       "             LGBMClassifier;max_depth_4;num_leaves_10  \\\n",
       "PassengerId                                             \n",
       "863                                          0.983129   \n",
       "224                                          0.071113   \n",
       "85                                           0.878911   \n",
       "681                                          0.721996   \n",
       "536                                          0.968034   \n",
       "...                                               ...   \n",
       "797                                          0.976618   \n",
       "816                                          0.125009   \n",
       "630                                          0.058120   \n",
       "422                                          0.120113   \n",
       "449                                          0.919018   \n",
       "\n",
       "             LGBMClassifier;max_depth_4;num_leaves_20  \\\n",
       "PassengerId                                             \n",
       "863                                          0.984062   \n",
       "224                                          0.064847   \n",
       "85                                           0.861216   \n",
       "681                                          0.720225   \n",
       "536                                          0.967227   \n",
       "...                                               ...   \n",
       "797                                          0.978694   \n",
       "816                                          0.134241   \n",
       "630                                          0.057512   \n",
       "422                                          0.116556   \n",
       "449                                          0.916945   \n",
       "\n",
       "             LGBMClassifier;max_depth_6;num_leaves_10  \\\n",
       "PassengerId                                             \n",
       "863                                          0.969091   \n",
       "224                                          0.062606   \n",
       "85                                           0.901857   \n",
       "681                                          0.753568   \n",
       "536                                          0.974291   \n",
       "...                                               ...   \n",
       "797                                          0.952203   \n",
       "816                                          0.141300   \n",
       "630                                          0.043997   \n",
       "422                                          0.108569   \n",
       "449                                          0.926258   \n",
       "\n",
       "             LGBMClassifier;max_depth_6;num_leaves_20  \\\n",
       "PassengerId                                             \n",
       "863                                          0.990346   \n",
       "224                                          0.072216   \n",
       "85                                           0.909612   \n",
       "681                                          0.724417   \n",
       "536                                          0.970883   \n",
       "...                                               ...   \n",
       "797                                          0.983881   \n",
       "816                                          0.128170   \n",
       "630                                          0.026526   \n",
       "422                                          0.110131   \n",
       "449                                          0.923712   \n",
       "\n",
       "             LGBMClassifier;max_depth_8;num_leaves_10  \\\n",
       "PassengerId                                             \n",
       "863                                          0.988083   \n",
       "224                                          0.068062   \n",
       "85                                           0.910817   \n",
       "681                                          0.757998   \n",
       "536                                          0.968220   \n",
       "...                                               ...   \n",
       "797                                          0.976931   \n",
       "816                                          0.139161   \n",
       "630                                          0.038670   \n",
       "422                                          0.105010   \n",
       "449                                          0.923247   \n",
       "\n",
       "             LGBMClassifier;max_depth_8;num_leaves_20  \n",
       "PassengerId                                            \n",
       "863                                          0.993439  \n",
       "224                                          0.039835  \n",
       "85                                           0.901304  \n",
       "681                                          0.746609  \n",
       "536                                          0.970596  \n",
       "...                                               ...  \n",
       "797                                          0.987048  \n",
       "816                                          0.125547  \n",
       "630                                          0.020757  \n",
       "422                                          0.081127  \n",
       "449                                          0.955254  \n",
       "\n",
       "[179 rows x 8 columns]"
      ],
      "text/html": "<div>\n<style scoped>\n    .dataframe tbody tr th:only-of-type {\n        vertical-align: middle;\n    }\n\n    .dataframe tbody tr th {\n        vertical-align: top;\n    }\n\n    .dataframe thead th {\n        text-align: right;\n    }\n</style>\n<table border=\"1\" class=\"dataframe\">\n  <thead>\n    <tr style=\"text-align: right;\">\n      <th></th>\n      <th>LogisticRegression;C_0.1;penalty_l2</th>\n      <th>LogisticRegression;C_1;penalty_l2</th>\n      <th>LGBMClassifier;max_depth_4;num_leaves_10</th>\n      <th>LGBMClassifier;max_depth_4;num_leaves_20</th>\n      <th>LGBMClassifier;max_depth_6;num_leaves_10</th>\n      <th>LGBMClassifier;max_depth_6;num_leaves_20</th>\n      <th>LGBMClassifier;max_depth_8;num_leaves_10</th>\n      <th>LGBMClassifier;max_depth_8;num_leaves_20</th>\n    </tr>\n    <tr>\n      <th>PassengerId</th>\n      <th></th>\n      <th></th>\n      <th></th>\n      <th></th>\n      <th></th>\n      <th></th>\n      <th></th>\n      <th></th>\n    </tr>\n  </thead>\n  <tbody>\n    <tr>\n      <th>863</th>\n      <td>0.909124</td>\n      <td>0.957677</td>\n      <td>0.983129</td>\n      <td>0.984062</td>\n      <td>0.969091</td>\n      <td>0.990346</td>\n      <td>0.988083</td>\n      <td>0.993439</td>\n    </tr>\n    <tr>\n      <th>224</th>\n      <td>0.117250</td>\n      <td>0.070377</td>\n      <td>0.071113</td>\n      <td>0.064847</td>\n      <td>0.062606</td>\n      <td>0.072216</td>\n      <td>0.068062</td>\n      <td>0.039835</td>\n    </tr>\n    <tr>\n      <th>85</th>\n      <td>0.674515</td>\n      <td>0.799713</td>\n      <td>0.878911</td>\n      <td>0.861216</td>\n      <td>0.901857</td>\n      <td>0.909612</td>\n      <td>0.910817</td>\n      <td>0.901304</td>\n    </tr>\n    <tr>\n      <th>681</th>\n      <td>0.543710</td>\n      <td>0.633973</td>\n      <td>0.721996</td>\n      <td>0.720225</td>\n      <td>0.753568</td>\n      <td>0.724417</td>\n      <td>0.757998</td>\n      <td>0.746609</td>\n    </tr>\n    <tr>\n      <th>536</th>\n      <td>0.773066</td>\n      <td>0.855788</td>\n      <td>0.968034</td>\n      <td>0.967227</td>\n      <td>0.974291</td>\n      <td>0.970883</td>\n      <td>0.968220</td>\n      <td>0.970596</td>\n    </tr>\n    <tr>\n      <th>...</th>\n      <td>...</td>\n      <td>...</td>\n      <td>...</td>\n      <td>...</td>\n      <td>...</td>\n      <td>...</td>\n      <td>...</td>\n      <td>...</td>\n    </tr>\n    <tr>\n      <th>797</th>\n      <td>0.906505</td>\n      <td>0.955890</td>\n      <td>0.976618</td>\n      <td>0.978694</td>\n      <td>0.952203</td>\n      <td>0.983881</td>\n      <td>0.976931</td>\n      <td>0.987048</td>\n    </tr>\n    <tr>\n      <th>816</th>\n      <td>0.654287</td>\n      <td>0.642043</td>\n      <td>0.125009</td>\n      <td>0.134241</td>\n      <td>0.141300</td>\n      <td>0.128170</td>\n      <td>0.139161</td>\n      <td>0.125547</td>\n    </tr>\n    <tr>\n      <th>630</th>\n      <td>0.157757</td>\n      <td>0.105379</td>\n      <td>0.058120</td>\n      <td>0.057512</td>\n      <td>0.043997</td>\n      <td>0.026526</td>\n      <td>0.038670</td>\n      <td>0.020757</td>\n    </tr>\n    <tr>\n      <th>422</th>\n      <td>0.214196</td>\n      <td>0.169956</td>\n      <td>0.120113</td>\n      <td>0.116556</td>\n      <td>0.108569</td>\n      <td>0.110131</td>\n      <td>0.105010</td>\n      <td>0.081127</td>\n    </tr>\n    <tr>\n      <th>449</th>\n      <td>0.651337</td>\n      <td>0.731190</td>\n      <td>0.919018</td>\n      <td>0.916945</td>\n      <td>0.926258</td>\n      <td>0.923712</td>\n      <td>0.923247</td>\n      <td>0.955254</td>\n    </tr>\n  </tbody>\n</table>\n<p>179 rows × 8 columns</p>\n</div>"
     },
     "metadata": {},
     "execution_count": 83
    }
   ],
   "source": [
    "test_probs"
   ]
  },
  {
   "cell_type": "code",
   "execution_count": null,
   "metadata": {},
   "outputs": [],
   "source": []
  }
 ]
}