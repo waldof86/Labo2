{
  "nbformat": 4,
  "nbformat_minor": 0,
  "metadata": {
    "kernelspec": {
      "display_name": "Python 3",
      "language": "python",
      "name": "python3"
    },
    "language_info": {
      "codemirror_mode": {
        "name": "ipython",
        "version": 3
      },
      "file_extension": ".py",
      "mimetype": "text/x-python",
      "name": "python",
      "nbconvert_exporter": "python",
      "pygments_lexer": "ipython3",
      "version": "3.6.6"
    },
    "colab": {
      "name": "Ejemplo CNN - MNIST",
      "provenance": [],
      "collapsed_sections": [],
      "include_colab_link": true
    }
  },
  "cells": [
    {
      "cell_type": "markdown",
      "metadata": {
        "id": "view-in-github",
        "colab_type": "text"
      },
      "source": [
        "<a href=\"https://colab.research.google.com/github/Argentan/DMA_LAB2/blob/master/tutoriales/08_Ejemplo_CNN_MNIST.ipynb\" target=\"_parent\"><img src=\"https://colab.research.google.com/assets/colab-badge.svg\" alt=\"Open In Colab\"/></a>"
      ]
    },
    {
      "cell_type": "markdown",
      "metadata": {
        "id": "XoYy_QmU6h9D"
      },
      "source": [
        "# Digit Recognizer\n",
        "### Learn computer vision fundamentals with the famous MNIST data\n",
        "\n",
        "Los datos son obtenidos de https://www.kaggle.com/c/digit-recognizer"
      ]
    },
    {
      "cell_type": "code",
      "metadata": {
        "_cell_guid": "79c7e3d0-c299-4dcb-8224-4455121ee9b0",
        "_uuid": "d629ff2d2480ee46fbb7e2d37f6b5fab8052498a",
        "id": "XoInHBk9s97Y"
      },
      "source": [
        "import pandas as pd \n",
        "import numpy as np \n",
        "import seaborn as sns\n",
        "\n",
        "from keras.models import Sequential\n",
        "from keras.layers import Dense, Dropout, Flatten, Conv2D, MaxPooling2D\n",
        "from keras.callbacks import EarlyStopping\n",
        "\n",
        "import matplotlib.pyplot as plt\n",
        "%matplotlib notebook"
      ],
      "execution_count": null,
      "outputs": []
    },
    {
      "cell_type": "markdown",
      "metadata": {
        "id": "a2LBRGZw7pLq"
      },
      "source": [
        "Leemos los datos"
      ]
    },
    {
      "cell_type": "code",
      "metadata": {
        "id": "h4pRBZoTs97Z"
      },
      "source": [
        "X_train = pd.read_csv(\"https://github.com/Argentan/DMA_LAB2/blob/master/data/Digit_Recognizer.csv.zip?raw=true\", compression='zip')\n",
        "y_train = X_train.label\n",
        "X_train = X_train.drop(\"label\", axis=1)"
      ],
      "execution_count": null,
      "outputs": []
    },
    {
      "cell_type": "code",
      "metadata": {
        "id": "bI6bontos97Z"
      },
      "source": [
        "X_train.head()"
      ],
      "execution_count": null,
      "outputs": []
    },
    {
      "cell_type": "code",
      "metadata": {
        "colab": {
          "base_uri": "https://localhost:8080/"
        },
        "id": "hruACS33s97b",
        "outputId": "f0830f9c-af4a-43cd-ef70-59bbf9d09f75"
      },
      "source": [
        "28*28"
      ],
      "execution_count": null,
      "outputs": [
        {
          "output_type": "execute_result",
          "data": {
            "text/plain": [
              "784"
            ]
          },
          "metadata": {
            "tags": []
          },
          "execution_count": 8
        }
      ]
    },
    {
      "cell_type": "code",
      "metadata": {
        "id": "hspuebFM7U4b"
      },
      "source": [
        "X_train.shape"
      ],
      "execution_count": null,
      "outputs": []
    },
    {
      "cell_type": "markdown",
      "metadata": {
        "id": "jGx0jmYj7mnl"
      },
      "source": [
        "Distribución del Target"
      ]
    },
    {
      "cell_type": "code",
      "metadata": {
        "id": "fir_Zt06s97Z"
      },
      "source": [
        "sns.countplot(y_train)"
      ],
      "execution_count": null,
      "outputs": []
    },
    {
      "cell_type": "markdown",
      "metadata": {
        "id": "P4sECC5L7hUE"
      },
      "source": [
        "El valor máximo que puede tomar un pixel es"
      ]
    },
    {
      "cell_type": "code",
      "metadata": {
        "id": "60hZC0vms97a"
      },
      "source": [
        "X_train.max().max()"
      ],
      "execution_count": null,
      "outputs": []
    },
    {
      "cell_type": "markdown",
      "metadata": {
        "id": "zLFiMND47dgn"
      },
      "source": [
        "Normalizamos los datos entre 0 y 1"
      ]
    },
    {
      "cell_type": "code",
      "metadata": {
        "id": "lF0XRwQZs97a"
      },
      "source": [
        "X_train /= X_train.max().max()\n",
        "X_train.head()"
      ],
      "execution_count": null,
      "outputs": []
    },
    {
      "cell_type": "markdown",
      "metadata": {
        "id": "1BClPQLj8Yex"
      },
      "source": [
        "Hacemos un `reshape` al tamaño correct de las imagenes"
      ]
    },
    {
      "cell_type": "code",
      "metadata": {
        "id": "udeGjKiCs97b"
      },
      "source": [
        "X_train.values.reshape(-1,28,28,1).shape"
      ],
      "execution_count": null,
      "outputs": []
    },
    {
      "cell_type": "code",
      "metadata": {
        "id": "x1F_U_uus97b"
      },
      "source": [
        "X_train = X_train.values.reshape(-1,28,28,1)"
      ],
      "execution_count": null,
      "outputs": []
    },
    {
      "cell_type": "markdown",
      "metadata": {
        "id": "QVdeqrVnBnBt"
      },
      "source": [
        "Imprimimos una imagen de ejemplo"
      ]
    },
    {
      "cell_type": "code",
      "metadata": {
        "id": "iPkVCCQBs97b"
      },
      "source": [
        "plt.imshow(X_train[3][:,:,0])"
      ],
      "execution_count": null,
      "outputs": []
    },
    {
      "cell_type": "code",
      "metadata": {
        "id": "J4JS1ZI3s97b"
      },
      "source": [
        "plt.imshow(X_train[13][:,:,0], cmap='binary')"
      ],
      "execution_count": null,
      "outputs": []
    },
    {
      "cell_type": "code",
      "metadata": {
        "id": "yGObjeIqs97b"
      },
      "source": [
        "fig, ax = plt.subplots(8, 8, figsize=(6, 6))\n",
        "for i, axi in enumerate(ax.flat):\n",
        "    axi.imshow(X_train[i, :, :, 0], cmap='binary')\n",
        "    axi.set(xticks=[], yticks=[])"
      ],
      "execution_count": null,
      "outputs": []
    },
    {
      "cell_type": "markdown",
      "metadata": {
        "id": "c8dd-An5CCgj"
      },
      "source": [
        "Separamos en Train y Test"
      ]
    },
    {
      "cell_type": "code",
      "metadata": {
        "id": "pTGKSAkks97b"
      },
      "source": [
        "test_idx = np.random.choice(range(X_train.shape[0]), int(X_train.shape[0] * 0.1), replace=False)\n",
        "train_idx = [i for i in range(X_train.shape[0]) if i not in test_idx]\n",
        "X_test = X_train[test_idx]\n",
        "y_test = pd.get_dummies(y_train[test_idx])\n",
        "X_train = X_train[train_idx]\n",
        "y_train = pd.get_dummies(y_train[train_idx])"
      ],
      "execution_count": null,
      "outputs": []
    },
    {
      "cell_type": "code",
      "metadata": {
        "id": "1lfjB9uVCBnm"
      },
      "source": [
        "y_train.tail()"
      ],
      "execution_count": null,
      "outputs": []
    },
    {
      "cell_type": "markdown",
      "metadata": {
        "id": "f-Dfv0Vns97b"
      },
      "source": [
        "## Deep Neural Networks - Convolutional Neural Networks \n",
        "\n",
        "Un red neuronal \"profunda\" es aquella que tiene múltiples representaciones latentes que buscan extraer variables explicativas de bajo nivel y componerlas en capas superiores. Las redes convolucionales son un tipo de estas redes profundas, puntualmente utiles para la clasificacion de imagenes. \n",
        "\n",
        "###  Convolutional Neural Networks \n",
        "\n",
        "\n",
        "![](http://www.mdpi.com/information/information-07-00061/article_deploy/html/images/information-07-00061-g001.png)\n",
        "\n",
        "\n",
        "**Convolutional layer: ** Esta capa utiliza un filtro convolutivo para procesar partes de la imagen, el filtro consiste de coeficiente que se aplican sucesivamente a pedasos de la imagen.\n",
        "\n",
        "![](https://gblobscdn.gitbook.com/assets%2F-LIA3amopGH9NC6Rf0mA%2F-M4bJ-IWAKzglR0XHFwU%2F-M4bJ4XuAd99mcti2Q2K%2Fconv_no_padding.gif?alt=media) \n",
        "\n",
        "**Tranco (stride): ** El tranco es la cantidad de pixeles que se saltean cada vez qeu se mueve el filtro.\n",
        "\n",
        "**Padding: ** Margen que dejamos para ajustar el recuadro de la convolución\n",
        "\n",
        "![](https://gblobscdn.gitbook.com/assets%2F-LIA3amopGH9NC6Rf0mA%2F-M4bJ-IWAKzglR0XHFwU%2F-M4bJ4XwDlK64zz3I0ZH%2Fconv_padding.gif?alt=media)\n",
        "\n",
        "Que aprende la convolución?\n",
        "\n",
        "![](https://ujwlkarn.files.wordpress.com/2016/08/giphy.gif) \n",
        "\n",
        "\n",
        "**Pooling Layer:**  Esta capa se utiliza para filtrar variables menos importantes y disminuir la cantidad necesaria de parámetros totales. \n",
        "\n",
        "![](https://upload.wikimedia.org/wikipedia/commons/e/e9/Max_pooling.png)\n",
        "\n"
      ]
    },
    {
      "cell_type": "markdown",
      "metadata": {
        "id": "cI_02cjMHSNH"
      },
      "source": [
        "Definimos el Modelo"
      ]
    },
    {
      "cell_type": "code",
      "metadata": {
        "id": "D6ZLeyL3s97b"
      },
      "source": [
        "model = Sequential()\n",
        "\n",
        "model.add(Conv2D(32, kernel_size=(3, 3), activation='relu', input_shape = X_train[0].shape))\n",
        "model.add(Conv2D(32, kernel_size=(3, 3), activation='relu'))\n",
        "model.add(MaxPooling2D(pool_size=(2, 2)))\n",
        "model.add(Dropout(0.25))\n",
        "model.add(Conv2D(64, (3, 3), activation='relu'))\n",
        "model.add(Conv2D(64, (3, 3), activation='relu'))\n",
        "model.add(MaxPooling2D(pool_size=(2, 2), strides=(2,2)))\n",
        "model.add(Dropout(0.25))\n",
        "model.add(Conv2D(128, (4, 4), activation='relu'))\n",
        "model.add(Dropout(0.25))\n",
        "model.add(Flatten())\n",
        "model.add(Dense(256, activation='relu'))\n",
        "model.add(Dropout(0.25))\n",
        "model.add(Dense(128, activation='relu'))\n",
        "model.add(Dropout(0.25))\n",
        "model.add(Dense(64, activation='relu'))\n",
        "model.add(Dropout(0.25))\n",
        "model.add(Dense(y_train.shape[1], activation='softmax'))\n",
        "model.compile(optimizer='rmsprop',loss='categorical_crossentropy', metrics=['accuracy'])\n",
        "model.summary()"
      ],
      "execution_count": null,
      "outputs": []
    },
    {
      "cell_type": "code",
      "metadata": {
        "id": "IsJKW0KAEA4z"
      },
      "source": [
        "(3 * 3 * 3 + 1) * 32"
      ],
      "execution_count": null,
      "outputs": []
    },
    {
      "cell_type": "markdown",
      "metadata": {
        "id": "UV7iGL6EHX5-"
      },
      "source": [
        "Entrenamos el Modelo"
      ]
    },
    {
      "cell_type": "code",
      "metadata": {
        "colab": {
          "base_uri": "https://localhost:8080/"
        },
        "id": "9UuqNLK2s97c",
        "outputId": "dd107f01-e34b-45bf-eb2f-04cea7383d8c"
      },
      "source": [
        "model.fit(X_train, y_train, batch_size= 320 , epochs= 30, verbose= 1, validation_split=0.1,\n",
        "          callbacks=[EarlyStopping(monitor='val_acc', patience=3,\n",
        "                                   verbose=1, mode='auto', restore_best_weights=True)])"
      ],
      "execution_count": null,
      "outputs": [
        {
          "output_type": "stream",
          "text": [
            "Epoch 1/30\n",
            "107/107 [==============================] - ETA: 0s - loss: 0.0678 - accuracy: 0.9828WARNING:tensorflow:Early stopping conditioned on metric `val_acc` which is not available. Available metrics are: loss,accuracy,val_loss,val_accuracy\n",
            "107/107 [==============================] - 77s 722ms/step - loss: 0.0678 - accuracy: 0.9828 - val_loss: 0.0522 - val_accuracy: 0.9847\n",
            "Epoch 2/30\n",
            "107/107 [==============================] - ETA: 0s - loss: 0.0562 - accuracy: 0.9857WARNING:tensorflow:Early stopping conditioned on metric `val_acc` which is not available. Available metrics are: loss,accuracy,val_loss,val_accuracy\n",
            "107/107 [==============================] - 77s 720ms/step - loss: 0.0562 - accuracy: 0.9857 - val_loss: 0.0433 - val_accuracy: 0.9884\n",
            "Epoch 3/30\n",
            "107/107 [==============================] - ETA: 0s - loss: 0.0475 - accuracy: 0.9877WARNING:tensorflow:Early stopping conditioned on metric `val_acc` which is not available. Available metrics are: loss,accuracy,val_loss,val_accuracy\n",
            "107/107 [==============================] - 77s 722ms/step - loss: 0.0475 - accuracy: 0.9877 - val_loss: 0.0434 - val_accuracy: 0.9886\n",
            "Epoch 4/30\n",
            "107/107 [==============================] - ETA: 0s - loss: 0.0430 - accuracy: 0.9886WARNING:tensorflow:Early stopping conditioned on metric `val_acc` which is not available. Available metrics are: loss,accuracy,val_loss,val_accuracy\n",
            "107/107 [==============================] - 77s 724ms/step - loss: 0.0430 - accuracy: 0.9886 - val_loss: 0.0295 - val_accuracy: 0.9921\n",
            "Epoch 5/30\n",
            "107/107 [==============================] - ETA: 0s - loss: 0.0401 - accuracy: 0.9892WARNING:tensorflow:Early stopping conditioned on metric `val_acc` which is not available. Available metrics are: loss,accuracy,val_loss,val_accuracy\n",
            "107/107 [==============================] - 77s 724ms/step - loss: 0.0401 - accuracy: 0.9892 - val_loss: 0.0300 - val_accuracy: 0.9939\n",
            "Epoch 6/30\n",
            "107/107 [==============================] - ETA: 0s - loss: 0.0396 - accuracy: 0.9908WARNING:tensorflow:Early stopping conditioned on metric `val_acc` which is not available. Available metrics are: loss,accuracy,val_loss,val_accuracy\n",
            "107/107 [==============================] - 78s 725ms/step - loss: 0.0396 - accuracy: 0.9908 - val_loss: 0.0323 - val_accuracy: 0.9923\n",
            "Epoch 7/30\n",
            "107/107 [==============================] - ETA: 0s - loss: 0.0353 - accuracy: 0.9914WARNING:tensorflow:Early stopping conditioned on metric `val_acc` which is not available. Available metrics are: loss,accuracy,val_loss,val_accuracy\n",
            "107/107 [==============================] - 78s 724ms/step - loss: 0.0353 - accuracy: 0.9914 - val_loss: 0.0341 - val_accuracy: 0.9907\n",
            "Epoch 8/30\n",
            "107/107 [==============================] - ETA: 0s - loss: 0.0344 - accuracy: 0.9907WARNING:tensorflow:Early stopping conditioned on metric `val_acc` which is not available. Available metrics are: loss,accuracy,val_loss,val_accuracy\n",
            "107/107 [==============================] - 77s 720ms/step - loss: 0.0344 - accuracy: 0.9907 - val_loss: 0.0393 - val_accuracy: 0.9907\n",
            "Epoch 9/30\n",
            "107/107 [==============================] - ETA: 0s - loss: 0.0320 - accuracy: 0.9917WARNING:tensorflow:Early stopping conditioned on metric `val_acc` which is not available. Available metrics are: loss,accuracy,val_loss,val_accuracy\n",
            "107/107 [==============================] - 78s 725ms/step - loss: 0.0320 - accuracy: 0.9917 - val_loss: 0.0341 - val_accuracy: 0.9921\n",
            "Epoch 10/30\n",
            "107/107 [==============================] - ETA: 0s - loss: 0.0318 - accuracy: 0.9920WARNING:tensorflow:Early stopping conditioned on metric `val_acc` which is not available. Available metrics are: loss,accuracy,val_loss,val_accuracy\n",
            "107/107 [==============================] - 77s 717ms/step - loss: 0.0318 - accuracy: 0.9920 - val_loss: 0.0316 - val_accuracy: 0.9937\n",
            "Epoch 11/30\n",
            " 26/107 [======>.......................] - ETA: 55s - loss: 0.0196 - accuracy: 0.9954"
          ],
          "name": "stdout"
        }
      ]
    },
    {
      "cell_type": "code",
      "metadata": {
        "id": "pMj5eiWGs97c",
        "outputId": "b70e3f1f-30cf-4ee6-a9ae-1ff4ac77dbbc"
      },
      "source": [
        "model.predict(X_test)"
      ],
      "execution_count": null,
      "outputs": [
        {
          "output_type": "execute_result",
          "data": {
            "text/plain": [
              "array([[1.9245449e-04, 9.1602085e-03, 2.9198302e-02, ..., 9.4797713e-01,\n",
              "        1.2794309e-03, 2.0388423e-03],\n",
              "       [1.0000000e+00, 4.8336786e-14, 1.0786390e-09, ..., 1.7724833e-12,\n",
              "        1.8289879e-09, 2.0860993e-08],\n",
              "       [9.9998927e-01, 2.5031799e-10, 2.0103080e-07, ..., 4.0457189e-09,\n",
              "        5.5021462e-07, 8.4001749e-06],\n",
              "       ...,\n",
              "       [2.6923713e-13, 1.0000000e+00, 5.6628102e-09, ..., 7.2258723e-09,\n",
              "        4.0454382e-09, 7.9959699e-11],\n",
              "       [8.6122600e-15, 1.0000000e+00, 5.1273497e-10, ..., 7.5875517e-10,\n",
              "        3.8951281e-10, 5.4037304e-12],\n",
              "       [2.0352740e-11, 1.0098380e-12, 4.9106034e-14, ..., 3.9597150e-13,\n",
              "        2.2960729e-10, 4.2456274e-09]], dtype=float32)"
            ]
          },
          "metadata": {
            "tags": []
          },
          "execution_count": 17
        }
      ]
    },
    {
      "cell_type": "markdown",
      "metadata": {
        "id": "9dJ7XmlvHbQa"
      },
      "source": [
        "Evaluamos la Predicción"
      ]
    },
    {
      "cell_type": "code",
      "metadata": {
        "id": "kSwcAkrcs97c",
        "outputId": "50150957-159d-44d8-e908-17e12336808e"
      },
      "source": [
        "preds = model.predict(X_test).argmax(axis=1)\n",
        "pd.crosstab(y_test.idxmax(axis=1), preds)"
      ],
      "execution_count": null,
      "outputs": [
        {
          "output_type": "execute_result",
          "data": {
            "text/html": [
              "<div>\n",
              "<style scoped>\n",
              "    .dataframe tbody tr th:only-of-type {\n",
              "        vertical-align: middle;\n",
              "    }\n",
              "\n",
              "    .dataframe tbody tr th {\n",
              "        vertical-align: top;\n",
              "    }\n",
              "\n",
              "    .dataframe thead th {\n",
              "        text-align: right;\n",
              "    }\n",
              "</style>\n",
              "<table border=\"1\" class=\"dataframe\">\n",
              "  <thead>\n",
              "    <tr style=\"text-align: right;\">\n",
              "      <th>col_0</th>\n",
              "      <th>0</th>\n",
              "      <th>1</th>\n",
              "      <th>2</th>\n",
              "      <th>3</th>\n",
              "      <th>4</th>\n",
              "      <th>5</th>\n",
              "      <th>6</th>\n",
              "      <th>7</th>\n",
              "      <th>8</th>\n",
              "      <th>9</th>\n",
              "    </tr>\n",
              "    <tr>\n",
              "      <th>row_0</th>\n",
              "      <th></th>\n",
              "      <th></th>\n",
              "      <th></th>\n",
              "      <th></th>\n",
              "      <th></th>\n",
              "      <th></th>\n",
              "      <th></th>\n",
              "      <th></th>\n",
              "      <th></th>\n",
              "      <th></th>\n",
              "    </tr>\n",
              "  </thead>\n",
              "  <tbody>\n",
              "    <tr>\n",
              "      <th>0</th>\n",
              "      <td>397</td>\n",
              "      <td>0</td>\n",
              "      <td>0</td>\n",
              "      <td>0</td>\n",
              "      <td>0</td>\n",
              "      <td>0</td>\n",
              "      <td>1</td>\n",
              "      <td>0</td>\n",
              "      <td>2</td>\n",
              "      <td>1</td>\n",
              "    </tr>\n",
              "    <tr>\n",
              "      <th>1</th>\n",
              "      <td>0</td>\n",
              "      <td>451</td>\n",
              "      <td>0</td>\n",
              "      <td>0</td>\n",
              "      <td>0</td>\n",
              "      <td>0</td>\n",
              "      <td>1</td>\n",
              "      <td>0</td>\n",
              "      <td>0</td>\n",
              "      <td>0</td>\n",
              "    </tr>\n",
              "    <tr>\n",
              "      <th>2</th>\n",
              "      <td>0</td>\n",
              "      <td>0</td>\n",
              "      <td>392</td>\n",
              "      <td>0</td>\n",
              "      <td>0</td>\n",
              "      <td>1</td>\n",
              "      <td>0</td>\n",
              "      <td>3</td>\n",
              "      <td>1</td>\n",
              "      <td>0</td>\n",
              "    </tr>\n",
              "    <tr>\n",
              "      <th>3</th>\n",
              "      <td>0</td>\n",
              "      <td>0</td>\n",
              "      <td>3</td>\n",
              "      <td>439</td>\n",
              "      <td>0</td>\n",
              "      <td>3</td>\n",
              "      <td>0</td>\n",
              "      <td>1</td>\n",
              "      <td>1</td>\n",
              "      <td>0</td>\n",
              "    </tr>\n",
              "    <tr>\n",
              "      <th>4</th>\n",
              "      <td>0</td>\n",
              "      <td>2</td>\n",
              "      <td>0</td>\n",
              "      <td>0</td>\n",
              "      <td>447</td>\n",
              "      <td>0</td>\n",
              "      <td>0</td>\n",
              "      <td>2</td>\n",
              "      <td>0</td>\n",
              "      <td>2</td>\n",
              "    </tr>\n",
              "    <tr>\n",
              "      <th>5</th>\n",
              "      <td>0</td>\n",
              "      <td>0</td>\n",
              "      <td>0</td>\n",
              "      <td>0</td>\n",
              "      <td>0</td>\n",
              "      <td>372</td>\n",
              "      <td>2</td>\n",
              "      <td>0</td>\n",
              "      <td>0</td>\n",
              "      <td>0</td>\n",
              "    </tr>\n",
              "    <tr>\n",
              "      <th>6</th>\n",
              "      <td>0</td>\n",
              "      <td>0</td>\n",
              "      <td>0</td>\n",
              "      <td>0</td>\n",
              "      <td>0</td>\n",
              "      <td>1</td>\n",
              "      <td>414</td>\n",
              "      <td>0</td>\n",
              "      <td>1</td>\n",
              "      <td>0</td>\n",
              "    </tr>\n",
              "    <tr>\n",
              "      <th>7</th>\n",
              "      <td>0</td>\n",
              "      <td>1</td>\n",
              "      <td>4</td>\n",
              "      <td>0</td>\n",
              "      <td>0</td>\n",
              "      <td>0</td>\n",
              "      <td>0</td>\n",
              "      <td>428</td>\n",
              "      <td>0</td>\n",
              "      <td>0</td>\n",
              "    </tr>\n",
              "    <tr>\n",
              "      <th>8</th>\n",
              "      <td>0</td>\n",
              "      <td>1</td>\n",
              "      <td>0</td>\n",
              "      <td>0</td>\n",
              "      <td>0</td>\n",
              "      <td>3</td>\n",
              "      <td>0</td>\n",
              "      <td>0</td>\n",
              "      <td>395</td>\n",
              "      <td>1</td>\n",
              "    </tr>\n",
              "    <tr>\n",
              "      <th>9</th>\n",
              "      <td>1</td>\n",
              "      <td>0</td>\n",
              "      <td>1</td>\n",
              "      <td>0</td>\n",
              "      <td>2</td>\n",
              "      <td>3</td>\n",
              "      <td>0</td>\n",
              "      <td>2</td>\n",
              "      <td>0</td>\n",
              "      <td>418</td>\n",
              "    </tr>\n",
              "  </tbody>\n",
              "</table>\n",
              "</div>"
            ],
            "text/plain": [
              "col_0    0    1    2    3    4    5    6    7    8    9\n",
              "row_0                                                  \n",
              "0      397    0    0    0    0    0    1    0    2    1\n",
              "1        0  451    0    0    0    0    1    0    0    0\n",
              "2        0    0  392    0    0    1    0    3    1    0\n",
              "3        0    0    3  439    0    3    0    1    1    0\n",
              "4        0    2    0    0  447    0    0    2    0    2\n",
              "5        0    0    0    0    0  372    2    0    0    0\n",
              "6        0    0    0    0    0    1  414    0    1    0\n",
              "7        0    1    4    0    0    0    0  428    0    0\n",
              "8        0    1    0    0    0    3    0    0  395    1\n",
              "9        1    0    1    0    2    3    0    2    0  418"
            ]
          },
          "metadata": {
            "tags": []
          },
          "execution_count": 18
        }
      ]
    },
    {
      "cell_type": "markdown",
      "metadata": {
        "id": "HlinHZl-GYaN"
      },
      "source": [
        "## Aumentar el Dataset con transformaciones de Imagenes"
      ]
    },
    {
      "cell_type": "code",
      "metadata": {
        "id": "wcpk9jj9GYBy"
      },
      "source": [
        "X_train.shape"
      ],
      "execution_count": null,
      "outputs": []
    },
    {
      "cell_type": "code",
      "metadata": {
        "id": "29Z8gmqqs97c"
      },
      "source": [
        "from keras.preprocessing.image import ImageDataGenerator\n",
        "\n",
        "datagen = ImageDataGenerator(\n",
        "        rotation_range=10,  # Rotar aleatoriamente la imagen en un 10%\n",
        "        zoom_range = 0.1, # Hace zoom aleatoriamente la imagen en un 10%\n",
        "        width_shift_range=0.1,  # Hacer las imagenes aleatoriamente un 10% más anchas\n",
        "        height_shift_range=0.1,  # Hacer las imagenes aleatoriamente un 10% más altas\n",
        "        horizontal_flip=False,  # Rotar Horizontalmente\n",
        "        vertical_flip=False)  # Rotar Verticalmente\n",
        "\n",
        "\n",
        "datagen.fit(X_train)"
      ],
      "execution_count": null,
      "outputs": []
    },
    {
      "cell_type": "code",
      "metadata": {
        "id": "LmrsKMFYs97d"
      },
      "source": [
        "X_train.shape"
      ],
      "execution_count": null,
      "outputs": []
    },
    {
      "cell_type": "code",
      "metadata": {
        "id": "rzfPgSb_s97d"
      },
      "source": [
        "model.fit_generator(datagen.flow(X_train,y_train, batch_size=320),\n",
        "                              epochs = 30, verbose = 1, steps_per_epoch= X_train.shape[0] // 320)"
      ],
      "execution_count": null,
      "outputs": []
    },
    {
      "cell_type": "code",
      "metadata": {
        "id": "JcmtFNa2GyoF"
      },
      "source": [
        "preds = model.predict(X_test).argmax(axis=1)\n",
        "pd.crosstab(y_test.idxmax(axis=1), preds)"
      ],
      "execution_count": null,
      "outputs": []
    },
    {
      "cell_type": "markdown",
      "metadata": {
        "id": "nt1bGjCDJeLg"
      },
      "source": [
        "## Aplicar un Modelo Pre-entrenado \n",
        "\n",
        "Vamos a utilizar `resnet50` como una capa de nuestra red"
      ]
    },
    {
      "cell_type": "code",
      "metadata": {
        "id": "mnMRjw6GJr1a"
      },
      "source": [
        "from tensorflow.keras.applications.resnet50 import ResNet50\n",
        "\n",
        "new_model = Sequential()\n",
        "new_model.add(ResNet50(include_top=False, weights='imagenet', pooling='avg'))\n",
        "new_model.add(Dense(y_train.shape[1], activation='softmax'))\n",
        "new_model.compile(optimizer='rmsprop',loss='categorical_crossentropy', metrics=['accuracy'])\n",
        "new_model.summary()"
      ],
      "execution_count": null,
      "outputs": []
    },
    {
      "cell_type": "code",
      "metadata": {
        "id": "1SXxX85PJ3ws"
      },
      "source": [
        "new_model.fit(np.repeat(X_train, 3, -1), y_train, batch_size=320, epochs=30, verbose=1, validation_split=0.1,\n",
        "              callbacks=[EarlyStopping(monitor='val_acc', patience=3, verbose=1, mode='auto', restore_best_weights=True)])"
      ],
      "execution_count": null,
      "outputs": []
    }
  ]
}