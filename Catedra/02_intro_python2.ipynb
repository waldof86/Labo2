{
  "cells": [
    {
      "attachments": {},
      "cell_type": "markdown",
      "metadata": {
        "colab_type": "text",
        "id": "view-in-github"
      },
      "source": [
        "<a href=\"https://colab.research.google.com/github/Argentan/DMA_LAB2/blob/master/tutoriales/02_intro_python2.ipynb\" target=\"_parent\"><img src=\"https://colab.research.google.com/assets/colab-badge.svg\" alt=\"Open In Colab\"/></a>"
      ]
    },
    {
      "attachments": {},
      "cell_type": "markdown",
      "metadata": {
        "colab_type": "text",
        "id": "YkVfvT77robC"
      },
      "source": [
        "# Importación de Librerías\n",
        "\n",
        "Importar una librería entera\n"
      ]
    },
    {
      "cell_type": "code",
      "execution_count": 1,
      "metadata": {
        "colab": {},
        "colab_type": "code",
        "id": "mpw2IhwPruyL"
      },
      "outputs": [],
      "source": [
        "import random"
      ]
    },
    {
      "attachments": {},
      "cell_type": "markdown",
      "metadata": {
        "colab_type": "text",
        "id": "HfzxYBZvsJ7D"
      },
      "source": [
        "Puedo asignar un nombre corto para facilitar la llamada de funciones"
      ]
    },
    {
      "cell_type": "code",
      "execution_count": 2,
      "metadata": {
        "colab": {},
        "colab_type": "code",
        "id": "gXbMrrVVr4g2"
      },
      "outputs": [],
      "source": [
        "import pandas as pd"
      ]
    },
    {
      "attachments": {},
      "cell_type": "markdown",
      "metadata": {
        "colab_type": "text",
        "id": "OrtcQ04ZryEn"
      },
      "source": [
        "Importar solo una función de una librería"
      ]
    },
    {
      "cell_type": "code",
      "execution_count": 3,
      "metadata": {
        "colab": {},
        "colab_type": "code",
        "id": "hxTJMxLLrxd1"
      },
      "outputs": [],
      "source": [
        "from random import sample"
      ]
    },
    {
      "attachments": {},
      "cell_type": "markdown",
      "metadata": {
        "colab_type": "text",
        "id": "-ajBtMAmsQFI"
      },
      "source": [
        "Si no tengo instalada una librería puedo hacerla de varias maneras, la más simple usando **pip** \n",
        "\n",
        "El \"**!**\" lo usamos en Jupyter Notebooks para indicarle que es un comando de consola"
      ]
    },
    {
      "cell_type": "code",
      "execution_count": 4,
      "metadata": {
        "colab": {},
        "colab_type": "code",
        "id": "vdf46sJhsZVn"
      },
      "outputs": [
        {
          "name": "stdout",
          "output_type": "stream",
          "text": [
            "Defaulting to user installation because normal site-packages is not writeable\n",
            "Requirement already satisfied: seaborn in c:\\users\\waldo\\appdata\\roaming\\python\\python311\\site-packages (0.12.2)\n",
            "Requirement already satisfied: numpy!=1.24.0,>=1.17 in c:\\users\\waldo\\appdata\\roaming\\python\\python311\\site-packages (from seaborn) (1.23.5)\n",
            "Requirement already satisfied: pandas>=0.25 in c:\\users\\waldo\\appdata\\roaming\\python\\python311\\site-packages (from seaborn) (1.5.3)\n",
            "Requirement already satisfied: matplotlib!=3.6.1,>=3.1 in c:\\users\\waldo\\appdata\\roaming\\python\\python311\\site-packages (from seaborn) (3.7.1)\n",
            "Requirement already satisfied: contourpy>=1.0.1 in c:\\users\\waldo\\appdata\\roaming\\python\\python311\\site-packages (from matplotlib!=3.6.1,>=3.1->seaborn) (1.0.7)\n",
            "Requirement already satisfied: cycler>=0.10 in c:\\users\\waldo\\appdata\\roaming\\python\\python311\\site-packages (from matplotlib!=3.6.1,>=3.1->seaborn) (0.11.0)\n",
            "Requirement already satisfied: fonttools>=4.22.0 in c:\\users\\waldo\\appdata\\roaming\\python\\python311\\site-packages (from matplotlib!=3.6.1,>=3.1->seaborn) (4.39.3)\n",
            "Requirement already satisfied: kiwisolver>=1.0.1 in c:\\users\\waldo\\appdata\\roaming\\python\\python311\\site-packages (from matplotlib!=3.6.1,>=3.1->seaborn) (1.4.4)\n",
            "Requirement already satisfied: packaging>=20.0 in c:\\users\\waldo\\appdata\\roaming\\python\\python311\\site-packages (from matplotlib!=3.6.1,>=3.1->seaborn) (23.0)\n",
            "Requirement already satisfied: pillow>=6.2.0 in c:\\users\\waldo\\appdata\\roaming\\python\\python311\\site-packages (from matplotlib!=3.6.1,>=3.1->seaborn) (9.5.0)\n",
            "Requirement already satisfied: pyparsing>=2.3.1 in c:\\users\\waldo\\appdata\\roaming\\python\\python311\\site-packages (from matplotlib!=3.6.1,>=3.1->seaborn) (3.0.9)\n",
            "Requirement already satisfied: python-dateutil>=2.7 in c:\\users\\waldo\\appdata\\roaming\\python\\python311\\site-packages (from matplotlib!=3.6.1,>=3.1->seaborn) (2.8.2)\n",
            "Requirement already satisfied: pytz>=2020.1 in c:\\program files\\python311\\lib\\site-packages (from pandas>=0.25->seaborn) (2023.3)\n",
            "Requirement already satisfied: six>=1.5 in c:\\users\\waldo\\appdata\\roaming\\python\\python311\\site-packages (from python-dateutil>=2.7->matplotlib!=3.6.1,>=3.1->seaborn) (1.16.0)\n"
          ]
        },
        {
          "name": "stderr",
          "output_type": "stream",
          "text": [
            "\n",
            "[notice] A new release of pip is available: 23.0.1 -> 23.1.2\n",
            "[notice] To update, run: python.exe -m pip install --upgrade pip\n"
          ]
        }
      ],
      "source": [
        "!pip install seaborn"
      ]
    },
    {
      "attachments": {},
      "cell_type": "markdown",
      "metadata": {
        "colab_type": "text",
        "id": "I7gQIKXts7ac"
      },
      "source": [
        "Otra alternativa es con **apt-get**, por ejemplo, para esta librería que nos ayuda a leer archivos de compresión 7zip"
      ]
    },
    {
      "cell_type": "code",
      "execution_count": 5,
      "metadata": {
        "colab": {},
        "colab_type": "code",
        "id": "jx1uHYyws60d"
      },
      "outputs": [
        {
          "name": "stderr",
          "output_type": "stream",
          "text": [
            "'apt-get' is not recognized as an internal or external command,\n",
            "operable program or batch file.\n"
          ]
        }
      ],
      "source": [
        "# https://pypi.python.org/pypi/libarchive\n",
        "!apt-get -qq install -y libarchive-dev && pip install -U libarchive"
      ]
    },
    {
      "attachments": {},
      "cell_type": "markdown",
      "metadata": {
        "colab_type": "text",
        "id": "IUB_QFchtUG6"
      },
      "source": [
        "También puedo ver la versión de la Librería que tengo usando **pip show**"
      ]
    },
    {
      "cell_type": "code",
      "execution_count": 6,
      "metadata": {
        "colab": {},
        "colab_type": "code",
        "id": "iJpq94LZtSp7"
      },
      "outputs": [
        {
          "name": "stdout",
          "output_type": "stream",
          "text": [
            "Name: tensorflow\n",
            "Version: 2.12.0\n",
            "Summary: TensorFlow is an open source machine learning framework for everyone.\n",
            "Home-page: https://www.tensorflow.org/\n",
            "Author: Google Inc.\n",
            "Author-email: packages@tensorflow.org\n",
            "License: Apache 2.0\n",
            "Location: C:\\Program Files\\Python311\\Lib\\site-packages\n",
            "Requires: tensorflow-intel\n",
            "Required-by: \n"
          ]
        }
      ],
      "source": [
        "!pip show tensorflow"
      ]
    },
    {
      "attachments": {},
      "cell_type": "markdown",
      "metadata": {
        "colab_type": "text",
        "id": "34XIJdvrtvIZ"
      },
      "source": [
        "También puedo indicarle una versión específica de la librería si lo requiero"
      ]
    },
    {
      "cell_type": "code",
      "execution_count": 7,
      "metadata": {
        "colab": {},
        "colab_type": "code",
        "id": "Tj98BGEDtsi-"
      },
      "outputs": [
        {
          "name": "stdout",
          "output_type": "stream",
          "text": [
            "Defaulting to user installation because normal site-packages is not writeable\n",
            "Requirement already satisfied: tensorflow in c:\\program files\\python311\\lib\\site-packages (2.12.0)\n",
            "Requirement already satisfied: tensorflow-intel==2.12.0 in c:\\program files\\python311\\lib\\site-packages (from tensorflow) (2.12.0)\n",
            "Requirement already satisfied: absl-py>=1.0.0 in c:\\program files\\python311\\lib\\site-packages (from tensorflow-intel==2.12.0->tensorflow) (1.4.0)\n",
            "Requirement already satisfied: astunparse>=1.6.0 in c:\\program files\\python311\\lib\\site-packages (from tensorflow-intel==2.12.0->tensorflow) (1.6.3)\n",
            "Requirement already satisfied: flatbuffers>=2.0 in c:\\users\\waldo\\appdata\\roaming\\python\\python311\\site-packages (from tensorflow-intel==2.12.0->tensorflow) (23.5.26)\n",
            "Requirement already satisfied: gast<=0.4.0,>=0.2.1 in c:\\program files\\python311\\lib\\site-packages (from tensorflow-intel==2.12.0->tensorflow) (0.4.0)\n",
            "Requirement already satisfied: google-pasta>=0.1.1 in c:\\program files\\python311\\lib\\site-packages (from tensorflow-intel==2.12.0->tensorflow) (0.2.0)\n",
            "Requirement already satisfied: h5py>=2.9.0 in c:\\program files\\python311\\lib\\site-packages (from tensorflow-intel==2.12.0->tensorflow) (3.8.0)\n",
            "Requirement already satisfied: jax>=0.3.15 in c:\\program files\\python311\\lib\\site-packages (from tensorflow-intel==2.12.0->tensorflow) (0.4.12)\n",
            "Requirement already satisfied: libclang>=13.0.0 in c:\\users\\waldo\\appdata\\roaming\\python\\python311\\site-packages (from tensorflow-intel==2.12.0->tensorflow) (16.0.0)\n",
            "Requirement already satisfied: numpy<1.24,>=1.22 in c:\\users\\waldo\\appdata\\roaming\\python\\python311\\site-packages (from tensorflow-intel==2.12.0->tensorflow) (1.23.5)\n",
            "Requirement already satisfied: opt-einsum>=2.3.2 in c:\\program files\\python311\\lib\\site-packages (from tensorflow-intel==2.12.0->tensorflow) (3.3.0)\n",
            "Requirement already satisfied: packaging in c:\\users\\waldo\\appdata\\roaming\\python\\python311\\site-packages (from tensorflow-intel==2.12.0->tensorflow) (23.0)\n",
            "Requirement already satisfied: protobuf!=4.21.0,!=4.21.1,!=4.21.2,!=4.21.3,!=4.21.4,!=4.21.5,<5.0.0dev,>=3.20.3 in c:\\users\\waldo\\appdata\\roaming\\python\\python311\\site-packages (from tensorflow-intel==2.12.0->tensorflow) (4.23.3)\n",
            "Requirement already satisfied: setuptools in c:\\program files\\python311\\lib\\site-packages (from tensorflow-intel==2.12.0->tensorflow) (67.8.0)\n",
            "Requirement already satisfied: six>=1.12.0 in c:\\users\\waldo\\appdata\\roaming\\python\\python311\\site-packages (from tensorflow-intel==2.12.0->tensorflow) (1.16.0)\n",
            "Requirement already satisfied: termcolor>=1.1.0 in c:\\users\\waldo\\appdata\\roaming\\python\\python311\\site-packages (from tensorflow-intel==2.12.0->tensorflow) (2.3.0)\n",
            "Requirement already satisfied: typing-extensions>=3.6.6 in c:\\users\\waldo\\appdata\\roaming\\python\\python311\\site-packages (from tensorflow-intel==2.12.0->tensorflow) (4.6.3)\n",
            "Requirement already satisfied: wrapt<1.15,>=1.11.0 in c:\\users\\waldo\\appdata\\roaming\\python\\python311\\site-packages (from tensorflow-intel==2.12.0->tensorflow) (1.14.1)\n",
            "Requirement already satisfied: grpcio<2.0,>=1.24.3 in c:\\program files\\python311\\lib\\site-packages (from tensorflow-intel==2.12.0->tensorflow) (1.54.2)\n",
            "Requirement already satisfied: tensorboard<2.13,>=2.12 in c:\\program files\\python311\\lib\\site-packages (from tensorflow-intel==2.12.0->tensorflow) (2.12.3)\n",
            "Requirement already satisfied: tensorflow-estimator<2.13,>=2.12.0 in c:\\users\\waldo\\appdata\\roaming\\python\\python311\\site-packages (from tensorflow-intel==2.12.0->tensorflow) (2.12.0)\n",
            "Requirement already satisfied: keras<2.13,>=2.12.0 in c:\\program files\\python311\\lib\\site-packages (from tensorflow-intel==2.12.0->tensorflow) (2.12.0)\n",
            "Requirement already satisfied: tensorflow-io-gcs-filesystem>=0.23.1 in c:\\users\\waldo\\appdata\\roaming\\python\\python311\\site-packages (from tensorflow-intel==2.12.0->tensorflow) (0.31.0)\n",
            "Requirement already satisfied: wheel<1.0,>=0.23.0 in c:\\users\\waldo\\appdata\\roaming\\python\\python311\\site-packages (from astunparse>=1.6.0->tensorflow-intel==2.12.0->tensorflow) (0.40.0)\n",
            "Requirement already satisfied: ml-dtypes>=0.1.0 in c:\\program files\\python311\\lib\\site-packages (from jax>=0.3.15->tensorflow-intel==2.12.0->tensorflow) (0.2.0)\n",
            "Requirement already satisfied: scipy>=1.7 in c:\\program files\\python311\\lib\\site-packages (from jax>=0.3.15->tensorflow-intel==2.12.0->tensorflow) (1.10.1)\n",
            "Requirement already satisfied: google-auth<3,>=1.6.3 in c:\\program files\\python311\\lib\\site-packages (from tensorboard<2.13,>=2.12->tensorflow-intel==2.12.0->tensorflow) (2.20.0)\n",
            "Requirement already satisfied: google-auth-oauthlib<1.1,>=0.5 in c:\\program files\\python311\\lib\\site-packages (from tensorboard<2.13,>=2.12->tensorflow-intel==2.12.0->tensorflow) (1.0.0)\n",
            "Requirement already satisfied: markdown>=2.6.8 in c:\\program files\\python311\\lib\\site-packages (from tensorboard<2.13,>=2.12->tensorflow-intel==2.12.0->tensorflow) (3.4.3)\n",
            "Requirement already satisfied: requests<3,>=2.21.0 in c:\\users\\waldo\\appdata\\roaming\\python\\python311\\site-packages (from tensorboard<2.13,>=2.12->tensorflow-intel==2.12.0->tensorflow) (2.28.2)\n",
            "Requirement already satisfied: tensorboard-data-server<0.8.0,>=0.7.0 in c:\\users\\waldo\\appdata\\roaming\\python\\python311\\site-packages (from tensorboard<2.13,>=2.12->tensorflow-intel==2.12.0->tensorflow) (0.7.1)\n",
            "Requirement already satisfied: werkzeug>=1.0.1 in c:\\users\\waldo\\appdata\\roaming\\python\\python311\\site-packages (from tensorboard<2.13,>=2.12->tensorflow-intel==2.12.0->tensorflow) (2.3.6)\n",
            "Requirement already satisfied: cachetools<6.0,>=2.0.0 in c:\\program files\\python311\\lib\\site-packages (from google-auth<3,>=1.6.3->tensorboard<2.13,>=2.12->tensorflow-intel==2.12.0->tensorflow) (5.3.1)\n",
            "Requirement already satisfied: pyasn1-modules>=0.2.1 in c:\\program files\\python311\\lib\\site-packages (from google-auth<3,>=1.6.3->tensorboard<2.13,>=2.12->tensorflow-intel==2.12.0->tensorflow) (0.3.0)\n",
            "Requirement already satisfied: rsa<5,>=3.1.4 in c:\\program files\\python311\\lib\\site-packages (from google-auth<3,>=1.6.3->tensorboard<2.13,>=2.12->tensorflow-intel==2.12.0->tensorflow) (4.9)\n",
            "Requirement already satisfied: urllib3<2.0 in c:\\program files\\python311\\lib\\site-packages (from google-auth<3,>=1.6.3->tensorboard<2.13,>=2.12->tensorflow-intel==2.12.0->tensorflow) (1.26.16)\n",
            "Requirement already satisfied: requests-oauthlib>=0.7.0 in c:\\program files\\python311\\lib\\site-packages (from google-auth-oauthlib<1.1,>=0.5->tensorboard<2.13,>=2.12->tensorflow-intel==2.12.0->tensorflow) (1.3.1)\n",
            "Requirement already satisfied: charset-normalizer<4,>=2 in c:\\users\\waldo\\appdata\\roaming\\python\\python311\\site-packages (from requests<3,>=2.21.0->tensorboard<2.13,>=2.12->tensorflow-intel==2.12.0->tensorflow) (3.1.0)\n",
            "Requirement already satisfied: idna<4,>=2.5 in c:\\users\\waldo\\appdata\\roaming\\python\\python311\\site-packages (from requests<3,>=2.21.0->tensorboard<2.13,>=2.12->tensorflow-intel==2.12.0->tensorflow) (3.4)\n",
            "Requirement already satisfied: certifi>=2017.4.17 in c:\\users\\waldo\\appdata\\roaming\\python\\python311\\site-packages (from requests<3,>=2.21.0->tensorboard<2.13,>=2.12->tensorflow-intel==2.12.0->tensorflow) (2022.12.7)\n",
            "Requirement already satisfied: MarkupSafe>=2.1.1 in c:\\program files\\python311\\lib\\site-packages (from werkzeug>=1.0.1->tensorboard<2.13,>=2.12->tensorflow-intel==2.12.0->tensorflow) (2.1.2)\n",
            "Requirement already satisfied: pyasn1<0.6.0,>=0.4.6 in c:\\users\\waldo\\appdata\\roaming\\python\\python311\\site-packages (from pyasn1-modules>=0.2.1->google-auth<3,>=1.6.3->tensorboard<2.13,>=2.12->tensorflow-intel==2.12.0->tensorflow) (0.5.0)\n",
            "Requirement already satisfied: oauthlib>=3.0.0 in c:\\users\\waldo\\appdata\\roaming\\python\\python311\\site-packages (from requests-oauthlib>=0.7.0->google-auth-oauthlib<1.1,>=0.5->tensorboard<2.13,>=2.12->tensorflow-intel==2.12.0->tensorflow) (3.2.2)\n"
          ]
        },
        {
          "name": "stderr",
          "output_type": "stream",
          "text": [
            "\n",
            "[notice] A new release of pip is available: 23.0.1 -> 23.1.2\n",
            "[notice] To update, run: python.exe -m pip install --upgrade pip\n"
          ]
        }
      ],
      "source": [
        "!pip install tensorflow"
      ]
    },
    {
      "attachments": {},
      "cell_type": "markdown",
      "metadata": {
        "colab_type": "text",
        "id": "5Gcv4LytpJa6"
      },
      "source": [
        "# Estructuras de control\n",
        "\n",
        "## Comparadores lógicos\n",
        "\n",
        "| Operador | Acción |\n",
        "| -------- | ------ |\n",
        "| ==       | igual  |\n",
        "| > =       | mayor o igual |\n",
        "| >        | mayor estricto |\n",
        "| < =      | menor o igual |\n",
        "| <     | menor estricto |\n",
        "| ! = | desigual|\n",
        "| or | o |\n",
        "| and | y |\n"
      ]
    },
    {
      "cell_type": "code",
      "execution_count": 8,
      "metadata": {
        "colab": {},
        "colab_type": "code",
        "id": "vAQhz4JBpJa8",
        "outputId": "2ded7896-a2c2-4291-b9f1-f00b8404005b"
      },
      "outputs": [
        {
          "data": {
            "text/plain": [
              "True"
            ]
          },
          "execution_count": 8,
          "metadata": {},
          "output_type": "execute_result"
        }
      ],
      "source": [
        "1 == 1"
      ]
    },
    {
      "cell_type": "code",
      "execution_count": 9,
      "metadata": {
        "colab": {},
        "colab_type": "code",
        "id": "VOliCyFXpJbD",
        "outputId": "4dbbe339-a2c1-4547-948c-4369686a91ad"
      },
      "outputs": [
        {
          "data": {
            "text/plain": [
              "False"
            ]
          },
          "execution_count": 9,
          "metadata": {},
          "output_type": "execute_result"
        }
      ],
      "source": [
        "1 == 2"
      ]
    },
    {
      "cell_type": "code",
      "execution_count": 10,
      "metadata": {
        "colab": {},
        "colab_type": "code",
        "id": "Kyntul6YpJbH",
        "outputId": "dba5cc87-99d1-45ae-e4d2-d2b785d74d6f"
      },
      "outputs": [
        {
          "data": {
            "text/plain": [
              "True"
            ]
          },
          "execution_count": 10,
          "metadata": {},
          "output_type": "execute_result"
        }
      ],
      "source": [
        "1 == 1."
      ]
    },
    {
      "cell_type": "code",
      "execution_count": 11,
      "metadata": {
        "colab": {},
        "colab_type": "code",
        "id": "qRuWkBNMpJbL",
        "outputId": "7dc12373-a14c-4e18-f0d4-af827c398782"
      },
      "outputs": [
        {
          "data": {
            "text/plain": [
              "True"
            ]
          },
          "execution_count": 11,
          "metadata": {},
          "output_type": "execute_result"
        }
      ],
      "source": [
        "\"hola\" == \"hola\""
      ]
    },
    {
      "cell_type": "code",
      "execution_count": 12,
      "metadata": {
        "colab": {},
        "colab_type": "code",
        "id": "gPRDGwcOpJbP",
        "outputId": "f23faaaa-387d-4981-9982-eb0f635e0900"
      },
      "outputs": [
        {
          "data": {
            "text/plain": [
              "False"
            ]
          },
          "execution_count": 12,
          "metadata": {},
          "output_type": "execute_result"
        }
      ],
      "source": [
        "\"hola\" == \"Hola\""
      ]
    },
    {
      "cell_type": "code",
      "execution_count": 13,
      "metadata": {
        "colab": {},
        "colab_type": "code",
        "id": "8zsLgypvpJbT",
        "outputId": "a4e7593a-4fe4-4c2b-961d-a7b6c2e5f239"
      },
      "outputs": [
        {
          "data": {
            "text/plain": [
              "True"
            ]
          },
          "execution_count": 13,
          "metadata": {},
          "output_type": "execute_result"
        }
      ],
      "source": [
        "\"hola\" != \"Hola\""
      ]
    },
    {
      "cell_type": "code",
      "execution_count": 14,
      "metadata": {
        "colab": {
          "base_uri": "https://localhost:8080/",
          "height": 34
        },
        "colab_type": "code",
        "id": "z78cEc50pJbW",
        "outputId": "6ea49aa4-4621-4872-b0f4-eed4ba321f76"
      },
      "outputs": [
        {
          "data": {
            "text/plain": [
              "True"
            ]
          },
          "execution_count": 14,
          "metadata": {},
          "output_type": "execute_result"
        }
      ],
      "source": [
        "(1 == 1) and (2 == 2)"
      ]
    },
    {
      "cell_type": "code",
      "execution_count": 15,
      "metadata": {
        "colab": {
          "base_uri": "https://localhost:8080/",
          "height": 34
        },
        "colab_type": "code",
        "id": "aTCRHJnDpJbd",
        "outputId": "a2b8ffb9-19d3-4e57-831c-e3ac0260b147"
      },
      "outputs": [
        {
          "data": {
            "text/plain": [
              "False"
            ]
          },
          "execution_count": 15,
          "metadata": {},
          "output_type": "execute_result"
        }
      ],
      "source": [
        "(1 == 1) and (2 != 2)"
      ]
    },
    {
      "cell_type": "code",
      "execution_count": 16,
      "metadata": {
        "colab": {
          "base_uri": "https://localhost:8080/",
          "height": 34
        },
        "colab_type": "code",
        "id": "HTZEJDB9pJbh",
        "outputId": "aa76121f-c5f2-4acf-84a5-3db42afddb3c"
      },
      "outputs": [
        {
          "data": {
            "text/plain": [
              "True"
            ]
          },
          "execution_count": 16,
          "metadata": {},
          "output_type": "execute_result"
        }
      ],
      "source": [
        "(1 == 1) or (2 != 2)"
      ]
    },
    {
      "cell_type": "code",
      "execution_count": 17,
      "metadata": {
        "colab": {
          "base_uri": "https://localhost:8080/",
          "height": 34
        },
        "colab_type": "code",
        "id": "eKQySLbMpJbn",
        "outputId": "4c509e08-0354-47d9-cf11-7d78202e4fad"
      },
      "outputs": [
        {
          "data": {
            "text/plain": [
              "False"
            ]
          },
          "execution_count": 17,
          "metadata": {},
          "output_type": "execute_result"
        }
      ],
      "source": [
        "not ((1 == 1) or (2 != 2))"
      ]
    },
    {
      "cell_type": "code",
      "execution_count": 18,
      "metadata": {
        "colab": {
          "base_uri": "https://localhost:8080/",
          "height": 34
        },
        "colab_type": "code",
        "id": "rzUaqIqFpJbr",
        "outputId": "41a9fe2b-12f0-45ba-c8f1-322d52af9415"
      },
      "outputs": [
        {
          "data": {
            "text/plain": [
              "True"
            ]
          },
          "execution_count": 18,
          "metadata": {},
          "output_type": "execute_result"
        }
      ],
      "source": [
        "not (1 == 1) or (2 == 2)"
      ]
    },
    {
      "attachments": {},
      "cell_type": "markdown",
      "metadata": {
        "colab_type": "text",
        "id": "TNPw6SwzkQjw"
      },
      "source": [
        "### El operador \"not in\""
      ]
    },
    {
      "cell_type": "code",
      "execution_count": 19,
      "metadata": {
        "colab": {
          "base_uri": "https://localhost:8080/",
          "height": 34
        },
        "colab_type": "code",
        "id": "bPvwLj0gkY1M",
        "outputId": "e90347c9-caf6-441f-af0d-56c95cca5ed8"
      },
      "outputs": [
        {
          "data": {
            "text/plain": [
              "True"
            ]
          },
          "execution_count": 19,
          "metadata": {},
          "output_type": "execute_result"
        }
      ],
      "source": [
        "'Juan' in ['Pedro', 'Lucia', 'Juan', 'Maria']"
      ]
    },
    {
      "cell_type": "code",
      "execution_count": 20,
      "metadata": {
        "colab": {
          "base_uri": "https://localhost:8080/",
          "height": 34
        },
        "colab_type": "code",
        "id": "W5Z6UR6ekew2",
        "outputId": "2b28549a-f15c-4e2e-a558-b720f6436868"
      },
      "outputs": [
        {
          "data": {
            "text/plain": [
              "False"
            ]
          },
          "execution_count": 20,
          "metadata": {},
          "output_type": "execute_result"
        }
      ],
      "source": [
        "'Juan' not in ['Pedro', 'Lucia', 'Juan', 'Maria']"
      ]
    },
    {
      "cell_type": "code",
      "execution_count": 21,
      "metadata": {
        "colab": {
          "base_uri": "https://localhost:8080/",
          "height": 34
        },
        "colab_type": "code",
        "id": "Qtojp_Inkgwp",
        "outputId": "c4a744f8-d761-4e87-deb2-0233b18ee5c2"
      },
      "outputs": [
        {
          "data": {
            "text/plain": [
              "True"
            ]
          },
          "execution_count": 21,
          "metadata": {},
          "output_type": "execute_result"
        }
      ],
      "source": [
        "'Julieta' not in ['Pedro', 'Lucia', 'Juan', 'Maria']"
      ]
    },
    {
      "attachments": {},
      "cell_type": "markdown",
      "metadata": {
        "colab_type": "text",
        "id": "cL1D1T45kyib"
      },
      "source": [
        "### Asignación con operador aritmético\n",
        "\n",
        "| Operador | Equivalente |\n",
        "| -------- | ----------- |\n",
        "| `a += 1` | `a = a + 1` |\n",
        "| `a -= 1` | `a = a - 1` |\n",
        "| `a *= 1` | `a = a * 1` |\n",
        "| `a /= 1` | `a = a / 1` |\n",
        "| `a %= 1` | `a = a % 1` |"
      ]
    },
    {
      "cell_type": "code",
      "execution_count": 22,
      "metadata": {
        "colab": {
          "base_uri": "https://localhost:8080/",
          "height": 35
        },
        "colab_type": "code",
        "id": "VuMrXVdLks4n",
        "outputId": "e6badfa5-7480-45d0-d983-d499927de38d"
      },
      "outputs": [
        {
          "data": {
            "text/plain": [
              "'Hello world!'"
            ]
          },
          "execution_count": 22,
          "metadata": {},
          "output_type": "execute_result"
        }
      ],
      "source": [
        "a = 'Hello'\n",
        "a += ' world!'\n",
        "a"
      ]
    },
    {
      "cell_type": "code",
      "execution_count": 23,
      "metadata": {
        "colab": {
          "base_uri": "https://localhost:8080/",
          "height": 67
        },
        "colab_type": "code",
        "id": "6gsCqDEtmiSS",
        "outputId": "1f674729-f707-441d-9c61-95d2874f608f"
      },
      "outputs": [
        {
          "name": "stdout",
          "output_type": "stream",
          "text": [
            "2\n",
            "4\n",
            "8\n"
          ]
        }
      ],
      "source": [
        "a = 2\n",
        "print(a)\n",
        "\n",
        "a *= 2\n",
        "print(a)\n",
        "\n",
        "a *= 2\n",
        "print(a)"
      ]
    },
    {
      "attachments": {},
      "cell_type": "markdown",
      "metadata": {
        "colab_type": "text",
        "id": "82xO1hGUpJbu"
      },
      "source": [
        "## Condicionales"
      ]
    },
    {
      "cell_type": "code",
      "execution_count": 24,
      "metadata": {
        "colab": {},
        "colab_type": "code",
        "id": "6NKcH11tpJbv",
        "outputId": "ebe48f58-96a2-44c3-c779-31a5c8a0a37f",
        "tags": []
      },
      "outputs": [
        {
          "name": "stdout",
          "output_type": "stream",
          "text": [
            "encontrado\n"
          ]
        }
      ],
      "source": [
        "persona = \"Juan\"\n",
        "if (persona == \"Juan\"):\n",
        "    print(\"encontrado\")"
      ]
    },
    {
      "cell_type": "code",
      "execution_count": 25,
      "metadata": {
        "colab": {},
        "colab_type": "code",
        "id": "axy543RwpJby",
        "outputId": "12fba4a3-6ce2-4f57-b578-d078d4b0190c",
        "tags": []
      },
      "outputs": [
        {
          "name": "stdout",
          "output_type": "stream",
          "text": [
            "no encontrado\n"
          ]
        }
      ],
      "source": [
        "if (persona == \"Pedro\"):\n",
        "    print(\"encontrado\")\n",
        "else:\n",
        "    print(\"no encontrado\")"
      ]
    },
    {
      "cell_type": "code",
      "execution_count": 26,
      "metadata": {
        "colab": {},
        "colab_type": "code",
        "id": "yzU1Iu5ipJb1",
        "outputId": "9abe805f-7f2b-43ce-e01b-456134fe73e6",
        "tags": []
      },
      "outputs": [
        {
          "name": "stdout",
          "output_type": "stream",
          "text": [
            "econtrado Juan\n"
          ]
        }
      ],
      "source": [
        "if (persona == \"Pedro\"):\n",
        "    print(\"econtrado Pedro\")\n",
        "elif (persona == \"Juan\"): \n",
        "    print(\"econtrado Juan\")\n",
        "else:\n",
        "    print(\"no encontrado\")"
      ]
    },
    {
      "attachments": {},
      "cell_type": "markdown",
      "metadata": {
        "colab_type": "text",
        "id": "DbCgt-XKpJb4"
      },
      "source": [
        "## Loops"
      ]
    },
    {
      "attachments": {},
      "cell_type": "markdown",
      "metadata": {
        "colab_type": "text",
        "id": "2xD8Q7YOQFZi"
      },
      "source": [
        "### Loops usando For"
      ]
    },
    {
      "cell_type": "code",
      "execution_count": 27,
      "metadata": {
        "colab": {},
        "colab_type": "code",
        "id": "BSXUM02KpJb5",
        "outputId": "6c7f60cf-05d9-48c9-e410-e61050f85d70",
        "tags": []
      },
      "outputs": [
        {
          "name": "stdout",
          "output_type": "stream",
          "text": [
            "1\n",
            "2\n",
            "3\n"
          ]
        }
      ],
      "source": [
        "for a in [1, 2, 3]:\n",
        "    print(a)"
      ]
    },
    {
      "cell_type": "code",
      "execution_count": 28,
      "metadata": {
        "colab": {},
        "colab_type": "code",
        "id": "LKZGumv6pJb-",
        "outputId": "05282f09-ba46-4f0e-fe85-18e6bfc91590",
        "tags": []
      },
      "outputs": [
        {
          "name": "stdout",
          "output_type": "stream",
          "text": [
            "1\n",
            "2\n",
            "3\n"
          ]
        }
      ],
      "source": [
        "lista = [1, 2, 3]\n",
        "for a in lista:\n",
        "    print(a)"
      ]
    },
    {
      "cell_type": "code",
      "execution_count": 29,
      "metadata": {
        "colab": {},
        "colab_type": "code",
        "id": "mODIDXvlpJcB",
        "outputId": "252b521d-2b86-4582-af8b-f58d49c54719",
        "tags": []
      },
      "outputs": [
        {
          "name": "stdout",
          "output_type": "stream",
          "text": [
            "v1\n",
            "v2\n",
            "v3\n"
          ]
        }
      ],
      "source": [
        "diccionario = {\"v1\": 1, \"v2\": 2, \"v3\": 3}\n",
        "for a in diccionario:\n",
        "    print(a)"
      ]
    },
    {
      "cell_type": "code",
      "execution_count": 30,
      "metadata": {
        "colab": {
          "base_uri": "https://localhost:8080/",
          "height": 67
        },
        "colab_type": "code",
        "id": "1VUE26c1pJcE",
        "outputId": "bc2e6306-3a42-4bc8-e480-d0f7afd88b7e",
        "tags": []
      },
      "outputs": [
        {
          "name": "stdout",
          "output_type": "stream",
          "text": [
            "v1 1\n",
            "v2 2\n",
            "v3 3\n"
          ]
        }
      ],
      "source": [
        "diccionario = {\"v1\": 1, \"v2\": 2, \"v3\": 3}\n",
        "for a in diccionario.keys():\n",
        "    print(a, diccionario[a])"
      ]
    },
    {
      "cell_type": "code",
      "execution_count": 31,
      "metadata": {
        "colab": {
          "base_uri": "https://localhost:8080/",
          "height": 34
        },
        "colab_type": "code",
        "id": "EK0A_9jzpJcL",
        "outputId": "7666b1af-5cf1-4749-bbfc-83067d620910"
      },
      "outputs": [
        {
          "data": {
            "text/plain": [
              "dict_items([('v1', 1), ('v2', 2), ('v3', 3)])"
            ]
          },
          "execution_count": 31,
          "metadata": {},
          "output_type": "execute_result"
        }
      ],
      "source": [
        "diccionario.items()"
      ]
    },
    {
      "cell_type": "code",
      "execution_count": 32,
      "metadata": {
        "colab": {},
        "colab_type": "code",
        "id": "L7Jmh98OpJcH",
        "outputId": "4bb0dc1a-4894-486d-d49a-71936064f968",
        "tags": []
      },
      "outputs": [
        {
          "name": "stdout",
          "output_type": "stream",
          "text": [
            "llave: v1, valor: 1\n",
            "llave: v2, valor: 2\n",
            "llave: v3, valor: 3\n"
          ]
        }
      ],
      "source": [
        "diccionario = {\"v1\": 1, \"v2\": 2, \"v3\": 3}\n",
        "for k, v in diccionario.items():\n",
        "    print(f\"llave: {k}, valor: {v}\")"
      ]
    },
    {
      "cell_type": "code",
      "execution_count": 33,
      "metadata": {
        "colab": {
          "base_uri": "https://localhost:8080/",
          "height": 50
        },
        "colab_type": "code",
        "id": "sFPIuNBjpJcO",
        "outputId": "2ef3b018-642f-47dd-abde-c54678652058"
      },
      "outputs": [
        {
          "name": "stdout",
          "output_type": "stream",
          "text": [
            "1\n",
            "2\n"
          ]
        }
      ],
      "source": [
        "v1, v2 = 1, 2\n",
        "print(v1)\n",
        "print(v2)"
      ]
    },
    {
      "cell_type": "code",
      "execution_count": 34,
      "metadata": {
        "colab": {
          "base_uri": "https://localhost:8080/",
          "height": 67
        },
        "colab_type": "code",
        "id": "LK6yuZkSpJcS",
        "outputId": "120792ac-3f48-4efc-ed5b-a38c1d8ac815",
        "tags": []
      },
      "outputs": [
        {
          "name": "stdout",
          "output_type": "stream",
          "text": [
            "el indice 0 tienen un valor a\n",
            "el indice 1 tienen un valor b\n",
            "el indice 2 tienen un valor c\n"
          ]
        }
      ],
      "source": [
        "lista = [\"a\", \"b\", \"c\"]\n",
        "for indice in range(len(lista)):\n",
        "    print(f\"el indice {indice} tienen un valor {lista[indice]}\")"
      ]
    },
    {
      "cell_type": "code",
      "execution_count": 35,
      "metadata": {
        "colab": {
          "base_uri": "https://localhost:8080/",
          "height": 34
        },
        "colab_type": "code",
        "id": "kw2C5fW9qzLs",
        "outputId": "d838341a-2c4e-48c8-f003-ffad4cb8f200"
      },
      "outputs": [
        {
          "data": {
            "text/plain": [
              "range(0, 3)"
            ]
          },
          "execution_count": 35,
          "metadata": {},
          "output_type": "execute_result"
        }
      ],
      "source": [
        "range(len(lista))"
      ]
    },
    {
      "cell_type": "code",
      "execution_count": 36,
      "metadata": {
        "colab": {
          "base_uri": "https://localhost:8080/",
          "height": 67
        },
        "colab_type": "code",
        "id": "ay_M9kW5pJcV",
        "outputId": "fd4f4157-4ed7-4e9d-8372-d07e0c049b1d",
        "tags": []
      },
      "outputs": [
        {
          "name": "stdout",
          "output_type": "stream",
          "text": [
            "el indice 0 tienen un valor a\n",
            "el indice 1 tienen un valor b\n",
            "el indice 2 tienen un valor c\n"
          ]
        }
      ],
      "source": [
        "for indice, elemento in enumerate(lista):\n",
        "    print(f\"el indice {indice} tienen un valor {elemento}\")"
      ]
    },
    {
      "attachments": {},
      "cell_type": "markdown",
      "metadata": {
        "colab_type": "text",
        "id": "5VQeBfG8t-Mc"
      },
      "source": [
        "### Loops usando While "
      ]
    },
    {
      "cell_type": "code",
      "execution_count": 37,
      "metadata": {
        "colab": {},
        "colab_type": "code",
        "id": "EC9ZihppQloi"
      },
      "outputs": [],
      "source": [
        "from random import random"
      ]
    },
    {
      "cell_type": "code",
      "execution_count": 39,
      "metadata": {
        "colab": {
          "base_uri": "https://localhost:8080/",
          "height": 202
        },
        "colab_type": "code",
        "id": "eu8BPp7qpJcY",
        "outputId": "fbd1dda9-f9f3-4063-bf46-9454cf777a64",
        "tags": []
      },
      "outputs": [
        {
          "name": "stdout",
          "output_type": "stream",
          "text": [
            "0\n",
            "nuevo cent: 0.6797178116204797\n",
            "nuevo cent: 0.6645325788935312\n",
            "nuevo cent: 0.5201982657517509\n",
            "nuevo cent: 0.1813787990681185\n",
            "nuevo cent: 0.12611149770139385\n",
            "nuevo cent: 0.17206895298995117\n",
            "nuevo cent: 0.3325594930892606\n",
            "nuevo cent: 0.8574715141365155\n"
          ]
        }
      ],
      "source": [
        "cent = 0\n",
        "print(cent)\n",
        "while cent < 0.7:\n",
        "    cent = random()\n",
        "    print(\"nuevo cent:\", cent)"
      ]
    },
    {
      "attachments": {},
      "cell_type": "markdown",
      "metadata": {
        "colab_type": "text",
        "id": "Uvgbm2L8jfH6"
      },
      "source": [
        "### Loop de múltiples Listas usando zip()\n"
      ]
    },
    {
      "cell_type": "code",
      "execution_count": 40,
      "metadata": {
        "colab": {
          "base_uri": "https://localhost:8080/",
          "height": 84
        },
        "colab_type": "code",
        "id": "oWZnX8DsjoOn",
        "outputId": "22b85fbc-2a19-4be9-9974-1f39f04e1312"
      },
      "outputs": [
        {
          "name": "stdout",
          "output_type": "stream",
          "text": [
            "La calificación de Pedro fue 8 sobre 10\n",
            "La calificación de Lucia fue 9 sobre 10\n",
            "La calificación de Juan fue 3 sobre 10\n",
            "La calificación de Maria fue 5 sobre 10\n"
          ]
        }
      ],
      "source": [
        "name = ['Pedro', 'Lucia', 'Juan', 'Maria']\n",
        "age = [8, 9, 3, 5]\n",
        "for n, a in zip(name, age):\n",
        "  print('La calificación de {} fue {} sobre 10'.format(n, a))"
      ]
    },
    {
      "attachments": {},
      "cell_type": "markdown",
      "metadata": {
        "colab_type": "text",
        "id": "qMjTuQxspJcd"
      },
      "source": [
        "### List Comprehension vs. For Loops"
      ]
    },
    {
      "cell_type": "code",
      "execution_count": 41,
      "metadata": {
        "colab": {
          "base_uri": "https://localhost:8080/",
          "height": 34
        },
        "colab_type": "code",
        "id": "06gFgkR6pJcd",
        "outputId": "351c2f75-f425-4578-ffe7-a5341f75eb42",
        "tags": []
      },
      "outputs": [
        {
          "name": "stdout",
          "output_type": "stream",
          "text": [
            "1.18 ms ± 81.7 µs per loop (mean ± std. dev. of 7 runs, 1,000 loops each)\n"
          ]
        }
      ],
      "source": [
        "%%timeit\n",
        "lista1 = []\n",
        "for a in range(10000):\n",
        "    b = a / 2 + 10\n",
        "    lista1.append(b)"
      ]
    },
    {
      "cell_type": "code",
      "execution_count": 42,
      "metadata": {
        "colab": {
          "base_uri": "https://localhost:8080/",
          "height": 34
        },
        "colab_type": "code",
        "id": "4n0Nls8GpJcg",
        "outputId": "8dae6d1b-8bfd-45d6-f57a-9429e65d640d",
        "tags": []
      },
      "outputs": [
        {
          "name": "stdout",
          "output_type": "stream",
          "text": [
            "948 µs ± 42.4 µs per loop (mean ± std. dev. of 7 runs, 1,000 loops each)\n"
          ]
        }
      ],
      "source": [
        "%%timeit\n",
        "lista2 = [a / 2 + 10 for a in range(10000)]"
      ]
    },
    {
      "attachments": {},
      "cell_type": "markdown",
      "metadata": {
        "colab_type": "text",
        "id": "PJChvhCrR4rX"
      },
      "source": [
        "## Referencia y Copia de Objetos"
      ]
    },
    {
      "cell_type": "code",
      "execution_count": 44,
      "metadata": {
        "colab": {},
        "colab_type": "code",
        "id": "rhY65hfcpJcj"
      },
      "outputs": [],
      "source": [
        "lista1 = []\n",
        "for a in range(10):\n",
        "    b = a / 2 + 10\n",
        "    lista1.append(b)"
      ]
    },
    {
      "cell_type": "code",
      "execution_count": 45,
      "metadata": {
        "colab": {},
        "colab_type": "code",
        "id": "q_MUUmYNReHE"
      },
      "outputs": [],
      "source": [
        "lista2 = [a / 2 + 10 for a in range(10)]"
      ]
    },
    {
      "cell_type": "code",
      "execution_count": 46,
      "metadata": {
        "colab": {
          "base_uri": "https://localhost:8080/",
          "height": 50
        },
        "colab_type": "code",
        "id": "xUoa1Zw1Rj90",
        "outputId": "70a08bde-5c69-4d5e-cc0c-832f04592668"
      },
      "outputs": [
        {
          "name": "stdout",
          "output_type": "stream",
          "text": [
            "[10.0, 10.5, 11.0, 11.5, 12.0, 12.5, 13.0, 13.5, 14.0, 14.5]\n",
            "[10.0, 10.5, 11.0, 11.5, 12.0, 12.5, 13.0, 13.5, 14.0, 14.5]\n"
          ]
        }
      ],
      "source": [
        "print(lista1)\n",
        "print(lista2)"
      ]
    },
    {
      "cell_type": "code",
      "execution_count": 47,
      "metadata": {
        "colab": {
          "base_uri": "https://localhost:8080/",
          "height": 50
        },
        "colab_type": "code",
        "id": "H4RwHTuapJcm",
        "outputId": "71e31864-fd6e-45e7-e87f-974bd21b2010",
        "tags": []
      },
      "outputs": [
        {
          "name": "stdout",
          "output_type": "stream",
          "text": [
            "False\n",
            "True\n"
          ]
        }
      ],
      "source": [
        "print(lista1 is lista2)\n",
        "print(lista1 == lista2)"
      ]
    },
    {
      "cell_type": "code",
      "execution_count": 48,
      "metadata": {
        "colab": {
          "base_uri": "https://localhost:8080/",
          "height": 34
        },
        "colab_type": "code",
        "id": "kgZsiqpipJco",
        "outputId": "3065824b-a507-467b-ddfb-587f7a858d38"
      },
      "outputs": [
        {
          "data": {
            "text/plain": [
              "True"
            ]
          },
          "execution_count": 48,
          "metadata": {},
          "output_type": "execute_result"
        }
      ],
      "source": [
        "lista3 = lista2\n",
        "lista3 is lista2"
      ]
    },
    {
      "attachments": {},
      "cell_type": "markdown",
      "metadata": {
        "colab_type": "text",
        "id": "3hpIu8EuSBnT"
      },
      "source": [
        "Que sucede si modifico un elemento de la lista2 y veo la lista3"
      ]
    },
    {
      "cell_type": "code",
      "execution_count": 49,
      "metadata": {
        "colab": {
          "base_uri": "https://localhost:8080/",
          "height": 34
        },
        "colab_type": "code",
        "id": "Cve_LeoIpJcr",
        "outputId": "a5eabd5b-c84e-42f1-972a-dfb73440ddb5"
      },
      "outputs": [
        {
          "data": {
            "text/plain": [
              "['nuevo_elemento', 10.5, 11.0, 11.5, 12.0, 12.5, 13.0, 13.5, 14.0, 14.5]"
            ]
          },
          "execution_count": 49,
          "metadata": {},
          "output_type": "execute_result"
        }
      ],
      "source": [
        "lista2[0] = \"nuevo_elemento\"\n",
        "\n",
        "lista3"
      ]
    },
    {
      "cell_type": "code",
      "execution_count": 51,
      "metadata": {
        "colab": {
          "base_uri": "https://localhost:8080/",
          "height": 34
        },
        "colab_type": "code",
        "id": "aEfhhOLspJcx",
        "outputId": "41a3301b-9b1c-4b1c-d1dd-e170f42e8b8c"
      },
      "outputs": [
        {
          "data": {
            "text/plain": [
              "['nuevo2', 10.5, 11.0, 11.5, 12.0, 12.5, 13.0, 13.5, 14.0, 14.5]"
            ]
          },
          "execution_count": 51,
          "metadata": {},
          "output_type": "execute_result"
        }
      ],
      "source": [
        "lista4 = lista1.copy()\n",
        "lista1[0] = \"nuevo2\"\n",
        "lista4"
      ]
    },
    {
      "attachments": {},
      "cell_type": "markdown",
      "metadata": {
        "colab_type": "text",
        "id": "G3S9WwhApJcz"
      },
      "source": [
        "## Dictionary Comprehension"
      ]
    },
    {
      "attachments": {},
      "cell_type": "markdown",
      "metadata": {
        "colab_type": "text",
        "id": "T4HpK4QASn3B"
      },
      "source": [
        "Puedo crear diccionarios usando Dictionary Comprehension de la sigiente forma:\n",
        "\n",
        "`dictionary = {key: value for vars in iterable}`"
      ]
    },
    {
      "cell_type": "code",
      "execution_count": 52,
      "metadata": {
        "colab": {},
        "colab_type": "code",
        "id": "tuhs3FJZpJc0",
        "outputId": "46969970-2c2f-4902-bf6f-eaa5bf299d32"
      },
      "outputs": [
        {
          "data": {
            "text/plain": [
              "{'v1': 1, 'v2': 2, 'v3': 3}"
            ]
          },
          "execution_count": 52,
          "metadata": {},
          "output_type": "execute_result"
        }
      ],
      "source": [
        "dic_comp ={k: v for k, v in [(\"v1\", 1), (\"v2\", 2), (\"v3\", 3)]}\n",
        "dic_comp"
      ]
    },
    {
      "attachments": {},
      "cell_type": "markdown",
      "metadata": {
        "colab_type": "text",
        "id": "TZHb1kYVSxlz"
      },
      "source": [
        "Con un for loop:"
      ]
    },
    {
      "cell_type": "code",
      "execution_count": 57,
      "metadata": {
        "colab": {
          "base_uri": "https://localhost:8080/",
          "height": 34
        },
        "colab_type": "code",
        "id": "n6yJ4X3zSmzX",
        "outputId": "05dedbce-be78-47c8-98c2-61eb4389de48"
      },
      "outputs": [
        {
          "name": "stdout",
          "output_type": "stream",
          "text": [
            "{1: 1, 2: 4, 3: 9, 4: 16, 5: 25, 6: 36, 7: 49, 8: 64, 9: 81, 10: 100}\n"
          ]
        }
      ],
      "source": [
        "cuadrado = dict()\n",
        "for num in range(1, 11):\n",
        "    cuadrado[num] = num*num\n",
        "print(cuadrado)"
      ]
    },
    {
      "attachments": {},
      "cell_type": "markdown",
      "metadata": {
        "colab_type": "text",
        "id": "BV4hb4pxS53R"
      },
      "source": [
        "Usando Dictionary Comprehension"
      ]
    },
    {
      "cell_type": "code",
      "execution_count": 58,
      "metadata": {
        "colab": {
          "base_uri": "https://localhost:8080/",
          "height": 34
        },
        "colab_type": "code",
        "id": "s-yJOur-S3aT",
        "outputId": "d2294a0e-0701-4fc2-e0d8-8e7d67479acb"
      },
      "outputs": [
        {
          "name": "stdout",
          "output_type": "stream",
          "text": [
            "{1: 1, 2: 4, 3: 9, 4: 16, 5: 25, 6: 36, 7: 49, 8: 64, 9: 81, 10: 100}\n"
          ]
        }
      ],
      "source": [
        "cuadrado = {num: num*num for num in range(1, 11)}\n",
        "print(cuadrado)"
      ]
    },
    {
      "attachments": {},
      "cell_type": "markdown",
      "metadata": {
        "colab_type": "text",
        "id": "_79LRuBbpJc2"
      },
      "source": [
        "## Ejercicios \n",
        "\n",
        "1. Crear una lista con valores del 100 al 500 a intervaloes de 50\n"
      ]
    },
    {
      "cell_type": "code",
      "execution_count": 68,
      "metadata": {},
      "outputs": [
        {
          "data": {
            "text/plain": [
              "[100, 150, 200, 250, 300, 350, 400, 450, 500]"
            ]
          },
          "execution_count": 68,
          "metadata": {},
          "output_type": "execute_result"
        }
      ],
      "source": [
        "ej1 = []\n",
        "\n",
        "for i in range(100,550,50):\n",
        "    ej1.append(i)\n",
        "\n",
        "ej1\n"
      ]
    },
    {
      "attachments": {},
      "cell_type": "markdown",
      "metadata": {
        "colab_type": "text",
        "id": "9XxijtrpTej6"
      },
      "source": [
        "\n",
        "2. Convertir esa lista en un diccionario donde los valores sean los elementos de la lista y las llaves el texto 'pago_{i}' donde i es el indice del pago, ej. pago_1 = 100"
      ]
    },
    {
      "cell_type": "code",
      "execution_count": 80,
      "metadata": {},
      "outputs": [
        {
          "data": {
            "text/plain": [
              "{'pago_0': 100,\n",
              " 'pago_1': 150,\n",
              " 'pago_2': 200,\n",
              " 'pago_3': 250,\n",
              " 'pago_4': 300,\n",
              " 'pago_5': 350,\n",
              " 'pago_6': 400,\n",
              " 'pago_7': 450,\n",
              " 'pago_8': 500}"
            ]
          },
          "execution_count": 80,
          "metadata": {},
          "output_type": "execute_result"
        }
      ],
      "source": [
        "ej2 = dict()\n",
        "\n",
        "for i in range(9):\n",
        "    ej2[f\"pago_{i}\"] = ej1[i]\n",
        "\n",
        "ej2"
      ]
    },
    {
      "attachments": {},
      "cell_type": "markdown",
      "metadata": {
        "colab_type": "text",
        "id": "F28rZweXTrSw"
      },
      "source": [
        "3. Sacar el valor actual de la lista considerandola una lista de pagos a intervalos regulares con una tasa de interes del 100%. El valor actual es la suma de los valores individuales descontados por el interes, cada pago se descuenta dividiendolo por (1 + tasa)^indice, por ej. 150 / ((1 + 1) ** 2). Recordar que los indices empiezan en 0"
      ]
    },
    {
      "cell_type": "code",
      "execution_count": 84,
      "metadata": {
        "colab": {},
        "colab_type": "code",
        "id": "uuyGLvvNjTE4"
      },
      "outputs": [
        {
          "data": {
            "text/plain": [
              "{'interes_0': 50.0,\n",
              " 'interes_1': 37.5,\n",
              " 'interes_2': 25.0,\n",
              " 'interes_3': 15.625,\n",
              " 'interes_4': 9.375,\n",
              " 'interes_5': 5.46875,\n",
              " 'interes_6': 3.125,\n",
              " 'interes_7': 1.7578125,\n",
              " 'interes_8': 0.9765625}"
            ]
          },
          "execution_count": 84,
          "metadata": {},
          "output_type": "execute_result"
        }
      ],
      "source": [
        "ej3 = dict()\n",
        "tasa = 1\n",
        "\n",
        "for i in range(9):\n",
        "    ej3[f\"interes_{i}\"] =  ej2.get(f\"pago_{i}\") / ((1 + tasa) ** (i+1))\n",
        "\n",
        "ej3"
      ]
    }
  ],
  "metadata": {
    "colab": {
      "include_colab_link": true,
      "name": "02_intro_python2.ipynb",
      "provenance": []
    },
    "kernelspec": {
      "display_name": "Python 3",
      "language": "python",
      "name": "python3"
    },
    "language_info": {
      "codemirror_mode": {
        "name": "ipython",
        "version": 3
      },
      "file_extension": ".py",
      "mimetype": "text/x-python",
      "name": "python",
      "nbconvert_exporter": "python",
      "pygments_lexer": "ipython3",
      "version": "3.11.2"
    }
  },
  "nbformat": 4,
  "nbformat_minor": 0
}
